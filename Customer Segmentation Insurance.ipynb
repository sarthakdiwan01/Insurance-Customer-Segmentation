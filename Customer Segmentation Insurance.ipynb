{
 "cells": [
  {
   "cell_type": "markdown",
   "metadata": {
    "id": "JuexQoh-5QE_"
   },
   "source": [
    "# Data Mining - A2Z Insurance"
   ]
  },
  {
   "cell_type": "code",
   "execution_count": null,
   "metadata": {
    "id": "iAnDrAcG5QFB"
   },
   "outputs": [],
   "source": [
    "import pandas as pd\n",
    "import numpy as np\n",
    "from matplotlib import cm\n",
    "import matplotlib.cm\n",
    "import scipy\n",
    "from scipy import stats as st\n",
    "import itertools\n",
    "from math import ceil, floor\n",
    "from random import sample\n",
    "from numpy.random import uniform\n",
    "\n",
    "# Data Visualization\n",
    "import seaborn as sns\n",
    "import matplotlib.pyplot as plt\n",
    "import plotly.express as px\n",
    "import plotly.graph_objects as go\n",
    "from plotly.subplots import make_subplots\n",
    "sns.set_theme()\n",
    "\n",
    "# Preprocessing\n",
    "from sklearn.impute import KNNImputer\n",
    "from sklearn.preprocessing import StandardScaler\n",
    "from sklearn.neighbors import NearestNeighbors\n",
    "from scipy.spatial.distance import squareform, pdist\n",
    "from sklearn.base import BaseEstimator, TransformerMixin\n",
    "from sklearn.utils.validation import check_is_fitted\n",
    "from sklearn.neighbors import KDTree\n",
    "from collections import Counter\n",
    "\n",
    "# SOM\n",
    "import sompy\n",
    "from sompy.visualization.mapview import View2D\n",
    "from sompy.visualization.bmuhits import BmuHitsView\n",
    "from sompy.visualization.hitmap import HitMapView\n",
    "\n",
    "# Sklearn clustering algorithms\n",
    "from sklearn.cluster import AgglomerativeClustering, KMeans, MeanShift, DBSCAN\n",
    "from scipy.cluster.hierarchy import dendrogram\n",
    "\n",
    "# Other clustering algorithms\n",
    "from kmodes.kprototypes import KPrototypes\n",
    "import kmedoids\n",
    "\n",
    "# Clusters evaluation\n",
    "from sklearn.metrics import silhouette_score, silhouette_samples\n",
    "\n",
    "# Gower distance\n",
    "import gower\n",
    "\n",
    "# Multidimensional visualization\n",
    "from sklearn.manifold import TSNE\n",
    "\n",
    "# Feature importance\n",
    "from sklearn.model_selection import train_test_split\n",
    "from sklearn.tree import DecisionTreeClassifier"
   ]
  },
  {
   "cell_type": "code",
   "execution_count": null,
   "metadata": {},
   "outputs": [],
   "source": []
  },
  {
   "cell_type": "code",
   "execution_count": null,
   "metadata": {
    "id": "iluRgmqZ5QFD"
   },
   "outputs": [],
   "source": [
    "df = pd.read_sas('a2z_insurance.sas7bdat')"
   ]
  },
  {
   "cell_type": "markdown",
   "metadata": {
    "id": "kFgMmb8N5QFF"
   },
   "source": [
    "## Data exploration <a class=\"anchor\" id=\"exploration\"></a>"
   ]
  },
  {
   "cell_type": "code",
   "execution_count": null,
   "metadata": {
    "colab": {
     "base_uri": "https://localhost:8080/",
     "height": 206
    },
    "id": "m9SaD9X-7te6",
    "outputId": "27cd06ea-2128-4aaa-92de-56f3f2db5b7b"
   },
   "outputs": [],
   "source": [
    "df.head()"
   ]
  },
  {
   "cell_type": "code",
   "execution_count": null,
   "metadata": {
    "colab": {
     "base_uri": "https://localhost:8080/"
    },
    "id": "-clKsV015QFG",
    "outputId": "ea45ee99-55c2-4401-923a-901ae1be893b"
   },
   "outputs": [],
   "source": [
    "df.info()"
   ]
  },
  {
   "cell_type": "code",
   "execution_count": null,
   "metadata": {
    "colab": {
     "base_uri": "https://localhost:8080/",
     "height": 476
    },
    "id": "q7DbdbiK5QFH",
    "outputId": "7045c093-6fe8-415c-8eac-a8f4b5503200"
   },
   "outputs": [],
   "source": [
    "df.describe(include = 'all')"
   ]
  },
  {
   "cell_type": "markdown",
   "metadata": {
    "id": "kInDUnwi_AyV"
   },
   "source": [
    "We can see some missing values as well as strange values in some columns such as *FirstPolYear* and *BirthYear*. It makes more sense to define *CustID* as the index of the dataframe. Also, *EducDeg* is defined as a byte variable and should be converted to integer"
   ]
  },
  {
   "cell_type": "code",
   "execution_count": null,
   "metadata": {
    "id": "4_KoEW-F76kR"
   },
   "outputs": [],
   "source": [
    "df[\"CustID\"] = df[\"CustID\"].astype(int)\n",
    "\n",
    "df.set_index(\"CustID\",inplace=True) # Turn CustID into index"
   ]
  },
  {
   "cell_type": "markdown",
   "metadata": {
    "id": "RtICe5LF_u6D"
   },
   "source": [
    "Let's check the distributions of the categorical features"
   ]
  },
  {
   "cell_type": "code",
   "execution_count": null,
   "metadata": {
    "colab": {
     "base_uri": "https://localhost:8080/"
    },
    "id": "P0QeIYk25QFJ",
    "outputId": "6fd036b3-5a75-4d2b-f568-e9ea5453b9b7"
   },
   "outputs": [],
   "source": [
    "df['EducDeg'].value_counts()"
   ]
  },
  {
   "cell_type": "code",
   "execution_count": null,
   "metadata": {
    "colab": {
     "base_uri": "https://localhost:8080/"
    },
    "id": "BmXmGCEL5QFK",
    "outputId": "c265ef1f-7093-4c8d-8cb6-1612f33fb278"
   },
   "outputs": [],
   "source": [
    "df['GeoLivArea'].value_counts()"
   ]
  },
  {
   "cell_type": "code",
   "execution_count": null,
   "metadata": {
    "colab": {
     "base_uri": "https://localhost:8080/"
    },
    "id": "dfOg-3WOeieX",
    "outputId": "166fdf76-526c-4d0b-f85b-ac7a41d978be"
   },
   "outputs": [],
   "source": [
    "df['Children'].value_counts()"
   ]
  },
  {
   "cell_type": "markdown",
   "metadata": {
    "id": "Bs3Du4jzDAGS"
   },
   "source": [
    "### Types conversion <a class=\"anchor\" id=\"types\"></a>"
   ]
  },
  {
   "cell_type": "code",
   "execution_count": null,
   "metadata": {
    "id": "EvBiBwls-tsx"
   },
   "outputs": [],
   "source": [
    "df[\"EducDeg\"].replace({b'1 - Basic':1, b'2 - High School':2, b'3 - BSc/MSc':3, b'4 - PhD':4}, inplace = True)"
   ]
  },
  {
   "cell_type": "markdown",
   "metadata": {
    "id": "JWgr1iUEoeEw"
   },
   "source": [
    "### Duplicates <a class=\"anchor\" id=\"duplicates\"></a>"
   ]
  },
  {
   "cell_type": "code",
   "execution_count": null,
   "metadata": {
    "id": "cJ1ga3Cg3mTI"
   },
   "outputs": [],
   "source": [
    "df_discarded = df[df.duplicated()].copy()"
   ]
  },
  {
   "cell_type": "code",
   "execution_count": null,
   "metadata": {
    "colab": {
     "base_uri": "https://localhost:8080/",
     "height": 175
    },
    "id": "vEiqi-RV41Cy",
    "outputId": "fabca12d-3793-461d-afdd-5d8d8981a3ef"
   },
   "outputs": [],
   "source": [
    "df_discarded"
   ]
  },
  {
   "cell_type": "code",
   "execution_count": null,
   "metadata": {
    "colab": {
     "base_uri": "https://localhost:8080/"
    },
    "id": "yGLfMm7P8-fh",
    "outputId": "f8d96dd5-1644-489b-815d-cc0e73e626ce"
   },
   "outputs": [],
   "source": [
    "df.duplicated().sum()"
   ]
  },
  {
   "cell_type": "code",
   "execution_count": null,
   "metadata": {
    "colab": {
     "base_uri": "https://localhost:8080/"
    },
    "id": "DZ0wOKMd5QFP",
    "outputId": "7dfcf482-b25e-4a2a-ea3b-92a49904159c"
   },
   "outputs": [],
   "source": [
    "# Drop duplicates\n",
    "df.drop_duplicates(inplace=True)\n",
    "df.duplicated().sum()"
   ]
  },
  {
   "cell_type": "markdown",
   "metadata": {
    "id": "i3E0A5Yn8j65"
   },
   "source": [
    "### Coherence check <a class=\"anchor\" id=\"coherence\"></a>\n",
    "\n",
    "We found some strange values:\n",
    "- FirstPolYear: Max > 2016\n",
    "- FirtPolYear < BirthYear\n",
    "\n"
   ]
  },
  {
   "cell_type": "code",
   "execution_count": null,
   "metadata": {
    "colab": {
     "base_uri": "https://localhost:8080/",
     "height": 112
    },
    "id": "OlZRwgnWcQKD",
    "outputId": "e72b6973-f68c-4959-c493-500923b6bcd8"
   },
   "outputs": [],
   "source": [
    "# FirstPolYear > 2016\n",
    "df[df['FirstPolYear'] > 2016]"
   ]
  },
  {
   "cell_type": "code",
   "execution_count": null,
   "metadata": {
    "id": "RNvbsdFf_01z"
   },
   "outputs": [],
   "source": [
    "df_discarded = pd.concat([df_discarded, df[df['FirstPolYear'] > 2016]])"
   ]
  },
  {
   "cell_type": "code",
   "execution_count": null,
   "metadata": {
    "id": "67vsyUJYcpDY"
   },
   "outputs": [],
   "source": [
    "# Only one observation, let's drop it\n",
    "df.drop(9295, axis = 0, inplace = True)"
   ]
  },
  {
   "cell_type": "code",
   "execution_count": null,
   "metadata": {
    "colab": {
     "base_uri": "https://localhost:8080/",
     "height": 455
    },
    "id": "BvqyvAfHj4g5",
    "outputId": "b1e33246-6cc4-49a8-9721-1b8c1f7a5633"
   },
   "outputs": [],
   "source": [
    "# FirstPolYear < BirthYear\n",
    "df[df[\"FirstPolYear\"] < df[\"BirthYear\"]]"
   ]
  },
  {
   "cell_type": "markdown",
   "metadata": {
    "id": "HbeMslrYEV2J"
   },
   "source": [
    "There are a lot of observations in this situation. Given we do not want to drop them as it would result in a great loss of data, we found an explanation:\n",
    "If FirstPolYear < BirthYear then FirstPolYear is set to BirthYear, meaning that newborns/children were insured by parents and then started paying their own insurance and by the time the insurance was contracted by the parent, the FirstPolYear registered was the parent's.\n"
   ]
  },
  {
   "cell_type": "code",
   "execution_count": null,
   "metadata": {
    "colab": {
     "base_uri": "https://localhost:8080/",
     "height": 81
    },
    "id": "mwCNck8zgps6",
    "outputId": "14c29cfa-8761-4e9a-bdea-b3310f21b26f"
   },
   "outputs": [],
   "source": [
    "df.loc[df[\"FirstPolYear\"]<df[\"BirthYear\"],\"FirstPolYear\"] = df.loc[df[\"FirstPolYear\"]<df[\"BirthYear\"],\"BirthYear\"]\n",
    "\n",
    "df[df[\"FirstPolYear\"]<df[\"BirthYear\"]]"
   ]
  },
  {
   "cell_type": "markdown",
   "metadata": {
    "id": "wY4NJLHS5QFL"
   },
   "source": [
    "### Data visualization <a class=\"anchor\" id=\"visualization\"></a>"
   ]
  },
  {
   "cell_type": "code",
   "execution_count": null,
   "metadata": {
    "id": "QaymuJWhE2_-"
   },
   "outputs": [],
   "source": [
    "metric_features = ['FirstPolYear', 'BirthYear', 'MonthSal', 'CustMonVal', 'ClaimsRate', 'PremMotor', 'PremHousehold', 'PremHealth', 'PremLife', 'PremWork']\n",
    "\n",
    "non_metric_features = ['EducDeg', 'GeoLivArea', 'Children']"
   ]
  },
  {
   "cell_type": "markdown",
   "metadata": {
    "id": "ZkA6xmtbFjb_"
   },
   "source": [
    "__1.__ **Distribution of metric features**"
   ]
  },
  {
   "cell_type": "code",
   "execution_count": null,
   "metadata": {
    "colab": {
     "base_uri": "https://localhost:8080/",
     "height": 1000
    },
    "id": "I5pK0OIheWIZ",
    "outputId": "86ba3995-39e9-4f9b-8d28-6a7e14ca1444"
   },
   "outputs": [],
   "source": [
    "fig, axes = plt.subplots(2, ceil(len(metric_features) / 2), figsize=(25, 11))\n",
    "\n",
    "for ax, feat in zip(axes.flatten(), metric_features):\n",
    "    sns.histplot(df[feat], bins=10, kde=True , legend=False, ax = ax)\n",
    "\n",
    "plt.suptitle('Distribution of metric features', fontsize = 20)\n",
    "\n",
    "# We can see a lot of outliers"
   ]
  },
  {
   "cell_type": "markdown",
   "metadata": {
    "id": "ovt982Jj4dMy"
   },
   "source": [
    "__2.__ **Spearman Correlation matrix between numerical + ordinal features**"
   ]
  },
  {
   "cell_type": "code",
   "execution_count": null,
   "metadata": {
    "colab": {
     "base_uri": "https://localhost:8080/",
     "height": 960
    },
    "id": "OWlpL7yH4e4V",
    "outputId": "70ce1fb8-090d-4d6a-b628-4c84442f4c30"
   },
   "outputs": [],
   "source": [
    "fig = plt.figure(figsize=(15, 15))\n",
    "\n",
    "# Given we are using Spearman Correlation, it also makes sense to include the ordinal variable\n",
    "feats = metric_features + ['EducDeg']\n",
    "\n",
    "corr = np.round(df[feats].corr(method=\"spearman\"), decimals=2)\n",
    "\n",
    "# Only plot the correlation values if the value surpasses a 0.5 threshold\n",
    "annotations = np.where(np.absolute(corr.values) >= 0.5, corr.values, np.full(corr.shape,\"\"))\n",
    "sns.heatmap(data=corr, annot=annotations, cmap='BrBG', fmt='s', center=0, square=True, linewidths=.5)\n",
    "\n",
    "plt.suptitle(\"Numerical + Ordinal features Spearman Correlation Matrix\", fontsize=20, y=0.9)\n",
    "plt.show()"
   ]
  },
  {
   "cell_type": "markdown",
   "metadata": {
    "id": "J0019eyc6LVx"
   },
   "source": [
    "*ClaimsRate* is highly correlated with *CustMonVal* as well as *BirthYear* with *MonthSal*. From now on, we will only be using one or the other for both cases."
   ]
  },
  {
   "cell_type": "markdown",
   "metadata": {
    "id": "LC5UrrfsFnId"
   },
   "source": [
    "__3.__ **Customers with negative CustMonVal spend more money in which premiums?**"
   ]
  },
  {
   "cell_type": "code",
   "execution_count": null,
   "metadata": {
    "colab": {
     "base_uri": "https://localhost:8080/"
    },
    "id": "fWQScRXYnbka",
    "outputId": "f7bf5d3d-52b5-4199-cd6c-d6bbaac19f17"
   },
   "outputs": [],
   "source": [
    "# Negative CMV means that the anual profit from the customer is so low that does not compensate the aquisition cost\n",
    "df_cmv = df.copy()\n",
    "\n",
    "df_cmv['CMV_pos'] = df_cmv['CustMonVal'].apply(lambda x: -1 if x < 0 else 1)\n",
    "\n",
    "df_cmv['CMV_pos'].value_counts()"
   ]
  },
  {
   "cell_type": "code",
   "execution_count": null,
   "metadata": {
    "colab": {
     "base_uri": "https://localhost:8080/",
     "height": 546
    },
    "id": "9HT7doYEGLUr",
    "outputId": "8afb3b45-20a2-4c4e-e478-051676a59fb1"
   },
   "outputs": [],
   "source": [
    "df_cmv.groupby('CMV_pos')[['PremMotor', 'PremHousehold', 'PremHealth', 'PremLife', 'PremWork']].mean().T.plot.bar(figsize = (10, 7), edgecolor = 'white', color = {1: '#224758', -1 : '#bf441f'})\n",
    "plt.legend(title = 'CMV')\n",
    "plt.ylabel('Mean spent')\n",
    "plt.title('Money spent in each premium VS profitable/non-profitable client', fontsize = 20)"
   ]
  },
  {
   "cell_type": "markdown",
   "metadata": {
    "id": "qjcEsSTYDHDv"
   },
   "source": [
    "People with negative CMV spend a lot more money in Motor and less in the rest of the insurances than people with positive CMV. This probably means that motor is a riskier type of insurance, which can lead to more economic losses for the company"
   ]
  },
  {
   "cell_type": "markdown",
   "metadata": {
    "id": "zdpl_x4XMal-"
   },
   "source": [
    "__4.__ **Money spent in premiums VS Number of years as a customer**"
   ]
  },
  {
   "cell_type": "code",
   "execution_count": null,
   "metadata": {
    "colab": {
     "base_uri": "https://localhost:8080/",
     "height": 392
    },
    "id": "jk5aJmuYhHrw",
    "outputId": "7460beb6-702c-4332-b9c7-9d494b8b76d8"
   },
   "outputs": [],
   "source": [
    "plt.figure(figsize = (20,5))\n",
    "\n",
    "premiums = ['PremMotor', 'PremHousehold', 'PremHealth', 'PremLife', 'PremWork']\n",
    "\n",
    "total_premiums = np.sum(df[premiums], axis = 1)\n",
    "\n",
    "sns.barplot(x = df['FirstPolYear'], y = total_premiums)\n",
    "\n",
    "plt.suptitle(\"Total of premiums across customers' first policy year\", fontsize = 20)\n",
    "\n",
    "# Similar total premiums per nr of years as customer. Looks like most recent clients are spending a little more."
   ]
  },
  {
   "cell_type": "markdown",
   "metadata": {
    "id": "FVfX9WunMwhG"
   },
   "source": [
    "__5.__ **Amount spent in each premium VS Age**"
   ]
  },
  {
   "cell_type": "code",
   "execution_count": null,
   "metadata": {
    "colab": {
     "base_uri": "https://localhost:8080/",
     "height": 481
    },
    "id": "uiq2i2evRYqb",
    "outputId": "2f935def-8c4f-41b2-8133-17abc509a4ef"
   },
   "outputs": [],
   "source": [
    "df_discretized = df.copy()\n",
    "\n",
    "df_discretized['birthyear_binned']=pd.cut(x=df['BirthYear'], bins=[1920,1940,1960,1980, 2001])\n",
    "\n",
    "df_discretized.groupby('birthyear_binned')[premiums].mean().plot.bar(stacked = False, cmap = cm.Set3, figsize = (12, 7))\n",
    "\n",
    "plt.xlabel(\"Birth_Year\")\n",
    "plt.ylabel('Mean Premiums')\n",
    "plt.title(\"Age Vs Type of premiums\")\n",
    "\n",
    "plt.xticks(rotation = 0)\n",
    "\n",
    "# People with different ages spend money in different insurances"
   ]
  },
  {
   "cell_type": "markdown",
   "metadata": {
    "id": "CCFSaT6IQQdd"
   },
   "source": [
    "__6.__ **Amount spent in each premium VS GeoLivArea**"
   ]
  },
  {
   "cell_type": "code",
   "execution_count": null,
   "metadata": {
    "colab": {
     "base_uri": "https://localhost:8080/",
     "height": 488
    },
    "id": "GCDsfY-VQV0S",
    "outputId": "fd834bde-f532-494f-a66e-2a7784375753"
   },
   "outputs": [],
   "source": [
    "df.groupby('GeoLivArea')[premiums].mean().plot.bar(stacked = False, cmap = cm.Set1, figsize = (12, 7))\n",
    "\n",
    "plt.ylabel('Mean Premiums')\n",
    "plt.title(\"GeolIvArea Vs Premiums spent on each insurance\")\n",
    "\n",
    "# This variable does not seem to have a good discriminant power when combined with the insurances"
   ]
  },
  {
   "cell_type": "markdown",
   "metadata": {
    "id": "aObiBiZBOK8t"
   },
   "source": [
    "__7.__ **Distribution of number of insurances**"
   ]
  },
  {
   "cell_type": "code",
   "execution_count": null,
   "metadata": {
    "colab": {
     "base_uri": "https://localhost:8080/",
     "height": 1000
    },
    "id": "rGioSIHOESlK",
    "outputId": "499395af-ad6f-43f0-d0f5-3abd875e24b4",
    "scrolled": true
   },
   "outputs": [],
   "source": [
    "df_nr = df.copy()\n",
    "\n",
    "zeros = (df.loc[:, ['PremMotor', 'PremHousehold', 'PremLife', 'PremHealth', 'PremWork']] == 0).sum(1)\n",
    "nans = (df.loc[:, ['PremMotor', 'PremHousehold', 'PremLife', 'PremHealth', 'PremWork']].isna().sum(1))\n",
    "df_nr['nr_insurances'] = 5 - (zeros + nans)\n",
    "\n",
    "plt.figure(figsize = (10, 7))\n",
    "plt.yscale('log') # log scale because there is a great discrepancy on the values\n",
    "sns.countplot(data = df_nr, x ='nr_insurances', order = df_nr['nr_insurances'].value_counts().index.values[::-1])\n",
    "plt.ylabel('log(number of customers)')\n",
    "\n",
    "# A lot of people have paid for the 5 available insurances"
   ]
  },
  {
   "cell_type": "markdown",
   "metadata": {
    "id": "7FingUAo5QFO"
   },
   "source": [
    "## Data preprocessing <a class=\"anchor\" id=\"preprocessing\"></a>"
   ]
  },
  {
   "cell_type": "markdown",
   "metadata": {
    "id": "5KpEdMMEoYkJ"
   },
   "source": [
    "### Outliers using IQR <a class=\"anchor\" id=\"outliersIQR\"></a>\n"
   ]
  },
  {
   "cell_type": "code",
   "execution_count": null,
   "metadata": {
    "colab": {
     "base_uri": "https://localhost:8080/",
     "height": 762
    },
    "id": "IZTODUh3JiHD",
    "outputId": "67bb5007-b368-4370-a430-0dc4e10b197d"
   },
   "outputs": [],
   "source": [
    "fig, axes = plt.subplots(2, ceil(len(metric_features) / 2), figsize=(20, 11))\n",
    "\n",
    "for ax, feat in zip(axes.flatten(), metric_features):\n",
    "    sns.boxplot(x=df[feat], ax=ax)\n",
    "    \n",
    "plt.suptitle(\"Metric features distributions before outliers removal\", fontsize = 20)"
   ]
  },
  {
   "cell_type": "code",
   "execution_count": null,
   "metadata": {
    "colab": {
     "base_uri": "https://localhost:8080/"
    },
    "id": "XzajGXbGN0JN",
    "outputId": "6a758cbd-9657-4223-af88-638030d995e4"
   },
   "outputs": [],
   "source": [
    "df.shape[0]"
   ]
  },
  {
   "cell_type": "code",
   "execution_count": null,
   "metadata": {
    "id": "JcM4Yh4bh1gk"
   },
   "outputs": [],
   "source": [
    "df_outliers = df.copy()\n",
    "\n",
    "df_no_outliers = df.copy()\n",
    "\n",
    "def remove_outliers(condition, col):\n",
    "  global df_no_outliers\n",
    "  df_clean = df_no_outliers[condition]\n",
    "  df_na = df_no_outliers[df_no_outliers[col].isna()]\n",
    "  df_no_outliers = pd.concat([df_clean, df_na])\n",
    "\n",
    "# Discard these values because they are not representative of the population\n",
    "remove_outliers(df_no_outliers['BirthYear'] > 1900, 'BirthYear')\n",
    "remove_outliers(df_no_outliers['MonthSal'] < 20000, 'MonthSal')\n",
    "remove_outliers(df_no_outliers['CustMonVal'] > -2000, 'CustMonVal')\n",
    "remove_outliers(df_no_outliers['ClaimsRate'] < 4, 'ClaimsRate')\n",
    "remove_outliers(df_no_outliers['PremMotor'] < 2000, 'PremMotor')\n",
    "remove_outliers(df_no_outliers['PremHousehold'] < 1500, 'PremHousehold')\n",
    "remove_outliers(df_no_outliers['PremHealth'] < 400, 'PremHealth')\n",
    "remove_outliers(df_no_outliers['PremLife'] < 300 , 'PremLife')\n",
    "remove_outliers(df_no_outliers['PremWork'] < 300 , 'PremWork')\n",
    "\n",
    "df_outliers.drop(df_no_outliers.index, inplace = True)"
   ]
  },
  {
   "cell_type": "code",
   "execution_count": null,
   "metadata": {
    "colab": {
     "base_uri": "https://localhost:8080/"
    },
    "id": "B3DXMfz4N2wb",
    "outputId": "92c73bde-15a8-4fa5-bda7-867df613a3e3"
   },
   "outputs": [],
   "source": [
    "print(f'Percentage of removed data: {np.round(((10296 - df_no_outliers.shape[0]) / 10296) * 100, 4)} %')"
   ]
  },
  {
   "cell_type": "code",
   "execution_count": null,
   "metadata": {
    "colab": {
     "base_uri": "https://localhost:8080/"
    },
    "id": "coac-YJl5Oqt",
    "outputId": "c7910a20-c6f9-4471-b5e6-ef87907b8e9c"
   },
   "outputs": [],
   "source": [
    "df_discarded = pd.concat([df_discarded, df_outliers])\n",
    "df_discarded.shape"
   ]
  },
  {
   "cell_type": "code",
   "execution_count": null,
   "metadata": {
    "colab": {
     "base_uri": "https://localhost:8080/",
     "height": 762
    },
    "id": "9BO1RqJSNr3l",
    "outputId": "07b9a438-a677-4f02-ff92-260428435970"
   },
   "outputs": [],
   "source": [
    "fig, axes = plt.subplots(2, ceil(len(metric_features) / 2), figsize=(20, 11))\n",
    "\n",
    "for ax, feat in zip(axes.flatten(), metric_features):\n",
    "    sns.boxplot(x=df_no_outliers[feat], ax=ax)\n",
    "\n",
    "plt.suptitle(\"Metric features distributions after outliers removal\", fontsize = 20)"
   ]
  },
  {
   "cell_type": "markdown",
   "metadata": {
    "id": "XvAAdx1jyOYQ"
   },
   "source": [
    "### Missing values - Premiums <a class=\"anchor\" id=\"missingPremiums\"></a>"
   ]
  },
  {
   "cell_type": "markdown",
   "metadata": {
    "id": "hgBofqZCDDTq"
   },
   "source": [
    "We have to fill these missing values at this point to do feature engineering before scaling. Later we will use KNN imputation to fill some of the other variables missing values, but before that we will need to scale the data.\n",
    "\n",
    "We assumed that all the premiums that were not registered have value 0\n"
   ]
  },
  {
   "cell_type": "code",
   "execution_count": null,
   "metadata": {
    "id": "a3oh_Q9aB7ge"
   },
   "outputs": [],
   "source": [
    "df_no_outliers[premiums] = df_no_outliers[premiums].fillna(0)\n",
    "\n",
    "# for final reclassification of outliers\n",
    "df_discarded[premiums] = df_discarded[premiums].fillna(0)"
   ]
  },
  {
   "cell_type": "code",
   "execution_count": null,
   "metadata": {
    "colab": {
     "base_uri": "https://localhost:8080/"
    },
    "id": "94jXzYXcEEPE",
    "outputId": "8863aac6-a4a3-437f-a813-33c1f6ba98dc"
   },
   "outputs": [],
   "source": [
    "df_no_outliers.isna().sum()"
   ]
  },
  {
   "cell_type": "code",
   "execution_count": null,
   "metadata": {
    "colab": {
     "base_uri": "https://localhost:8080/"
    },
    "id": "lChiKs9U8pmB",
    "outputId": "53a3a682-7abf-47be-c272-3e784f22cf65"
   },
   "outputs": [],
   "source": [
    "df_discarded.isna().sum()"
   ]
  },
  {
   "cell_type": "markdown",
   "metadata": {
    "id": "51V6fh_7NPZ1"
   },
   "source": [
    "### Feature engineering <a class=\"anchor\" id=\"featureEngineering\"></a>"
   ]
  },
  {
   "cell_type": "markdown",
   "metadata": {
    "id": "vk-UCq9hHvY2"
   },
   "source": [
    "#### Total reversals <a class=\"anchor\" id=\"reversals\"></a>\n",
    "\n",
    "Absolute value of the total amount of negative premiums.\n",
    "Represents the value that the company owes the customer."
   ]
  },
  {
   "cell_type": "code",
   "execution_count": null,
   "metadata": {
    "id": "LMe3lmYb2QKK"
   },
   "outputs": [],
   "source": [
    "df_no_outliers['total_reversals'] = np.abs(df_no_outliers[premiums][df_no_outliers[premiums] < 0].sum(1))\n",
    "\n",
    "# for final reclassification of outliers\n",
    "df_discarded['total_reversals'] = np.abs(df_discarded[premiums][df_discarded[premiums] < 0].sum(1))"
   ]
  },
  {
   "cell_type": "markdown",
   "metadata": {
    "id": "E6-EiAz3g5qu"
   },
   "source": [
    "Horizontal translation of the features to make them all positive\n",
    "\n",
    "We are doing this so that we can apply transformations to the data later on to reduce skewness. Depite performing this translation, we ensure that we do not lose any information about the comparison of features among clients seeing that the relationships of \"higher\" and \"lower\" remain unchanged, only the values are altered. Additionally, the values will later be transformed into scaled values that do not have meaning on their own and they only have significance when compared to each other in the final step of our cluster analysis."
   ]
  },
  {
   "cell_type": "code",
   "execution_count": null,
   "metadata": {
    "id": "ZmQ3pwKhgL5d"
   },
   "outputs": [],
   "source": [
    "df_no_outliers['PremMotor'] += abs(df_no_outliers['PremMotor'].min())\n",
    "df_no_outliers['PremHousehold'] += abs(df_no_outliers['PremHousehold'].min())\n",
    "df_no_outliers['PremHealth'] += abs(df_no_outliers['PremHealth'].min())\n",
    "df_no_outliers['PremLife'] += abs(df_no_outliers['PremLife'].min())\n",
    "df_no_outliers['PremWork'] += abs(df_no_outliers['PremWork'].min())"
   ]
  },
  {
   "cell_type": "code",
   "execution_count": null,
   "metadata": {
    "colab": {
     "base_uri": "https://localhost:8080/",
     "height": 364
    },
    "id": "6qtDhXJxhP7u",
    "outputId": "4a329eaf-9ac1-498e-be5a-d1c55ef009f8"
   },
   "outputs": [],
   "source": [
    "df_no_outliers.describe()"
   ]
  },
  {
   "cell_type": "markdown",
   "metadata": {
    "id": "YSEpjKUDHstW"
   },
   "source": [
    "#### Total premiums <a class=\"anchor\" id=\"totalPremiums\"></a>"
   ]
  },
  {
   "cell_type": "code",
   "execution_count": null,
   "metadata": {
    "id": "muqJNlak1A0p"
   },
   "outputs": [],
   "source": [
    "df_no_outliers['total_premiums'] = df_no_outliers[['PremMotor', 'PremHousehold', 'PremHealth', 'PremLife', 'PremWork']].sum(axis=1)\n",
    "\n",
    "# for final reclassification of outliers\n",
    "df_discarded['total_premiums'] = df_discarded[['PremMotor', 'PremHousehold', 'PremHealth', 'PremLife', 'PremWork']].sum(axis=1)"
   ]
  },
  {
   "cell_type": "markdown",
   "metadata": {
    "id": "uSIrrzZmIFLG"
   },
   "source": [
    "#### Premiums percentages <a class=\"anchor\" id=\"premiumsPercentage\"></a>\n",
    "How much of the total spent does the client spent in each type of insurance"
   ]
  },
  {
   "cell_type": "code",
   "execution_count": null,
   "metadata": {
    "id": "mZ-3nNiCyXZH"
   },
   "outputs": [],
   "source": [
    "for col in premiums:\n",
    "  df_no_outliers[col[4:]+'Percent'] = df_no_outliers[col] / df_no_outliers['total_premiums']\n",
    "\n",
    "  # for final reclassification of outliers\n",
    "  df_discarded[col[4:]+'Percent'] = df_discarded[col] / df_discarded['total_premiums']"
   ]
  },
  {
   "cell_type": "code",
   "execution_count": null,
   "metadata": {
    "colab": {
     "base_uri": "https://localhost:8080/",
     "height": 302
    },
    "id": "k2xwV4VmOOAT",
    "outputId": "bbb9bd07-324e-4101-b999-9cca17074c26"
   },
   "outputs": [],
   "source": [
    "df_no_outliers.head()"
   ]
  },
  {
   "cell_type": "markdown",
   "metadata": {
    "id": "fuhQ64xP4Dt1"
   },
   "source": [
    "### Transforming skewed data <a class=\"anchor\" id=\"skewed\"></a>\n",
    "\n",
    "We need to transform skewed data because there are some algorithms that assume a symetric and spherical distribution of variables"
   ]
  },
  {
   "cell_type": "code",
   "execution_count": null,
   "metadata": {
    "colab": {
     "base_uri": "https://localhost:8080/",
     "height": 1000
    },
    "id": "zNaYsdxw4qIm",
    "outputId": "baeed760-ab7b-4679-d574-ac8bb5280086"
   },
   "outputs": [],
   "source": [
    "metric_features = ['FirstPolYear', 'BirthYear', 'MonthSal',\n",
    "       'CustMonVal', 'ClaimsRate', 'PremMotor', 'PremHousehold',\n",
    "       'PremHealth', 'PremLife', 'PremWork', 'total_premiums', 'total_reversals',\n",
    "        'MotorPercent', 'HouseholdPercent',\n",
    "       'HealthPercent', 'LifePercent', 'WorkPercent']\n",
    "\n",
    "fig, axes = plt.subplots(3, ceil(len(metric_features) / 3), figsize=(30, 30))\n",
    "\n",
    "for ax, feat in zip(axes.flatten(), metric_features): # Notice the zip() function and flatten() method\n",
    "    sns.histplot(df_no_outliers[feat],bins=10, kde=True , legend=False, ax = ax)"
   ]
  },
  {
   "cell_type": "code",
   "execution_count": null,
   "metadata": {
    "colab": {
     "base_uri": "https://localhost:8080/"
    },
    "id": "t8k29s-xdzLQ",
    "outputId": "02890568-c26c-49e8-84b3-30196bfd8975"
   },
   "outputs": [],
   "source": [
    "df_no_outliers[metric_features].skew(axis = 0)"
   ]
  },
  {
   "cell_type": "code",
   "execution_count": null,
   "metadata": {
    "colab": {
     "base_uri": "https://localhost:8080/",
     "height": 302
    },
    "id": "IwsC1fMs1uk6",
    "outputId": "30e524a2-1f06-48c6-cb26-314b61fa351f"
   },
   "outputs": [],
   "source": [
    "sns.histplot(df_no_outliers['PremHousehold'] ** (1/3), bins = 10, kde=True , legend=False)"
   ]
  },
  {
   "cell_type": "code",
   "execution_count": null,
   "metadata": {
    "colab": {
     "base_uri": "https://localhost:8080/",
     "height": 302
    },
    "id": "KKf427fE1Pty",
    "outputId": "1c328693-ac54-41d6-88a9-583305331fe0"
   },
   "outputs": [],
   "source": [
    "sns.histplot(df_no_outliers['PremLife'] ** (1/3), bins = 10, kde=True , legend=False)"
   ]
  },
  {
   "cell_type": "code",
   "execution_count": null,
   "metadata": {
    "colab": {
     "base_uri": "https://localhost:8080/",
     "height": 302
    },
    "id": "xk4sWgfg1lCD",
    "outputId": "75a30e96-457e-4c5b-8863-5ad39d6c7a4e"
   },
   "outputs": [],
   "source": [
    "sns.histplot(df_no_outliers['PremWork'] ** (1/3), bins = 10, kde=True , legend=False)"
   ]
  },
  {
   "cell_type": "code",
   "execution_count": null,
   "metadata": {
    "colab": {
     "base_uri": "https://localhost:8080/",
     "height": 302
    },
    "id": "9byn7TZtR7aP",
    "outputId": "49047d1f-6006-4aa8-d09c-0735ee3e7edb"
   },
   "outputs": [],
   "source": [
    "sns.histplot(df_no_outliers['total_premiums'] ** (1/1.2), bins = 10, kde=True , legend=False)"
   ]
  },
  {
   "cell_type": "code",
   "execution_count": null,
   "metadata": {
    "id": "5hRFcAuv3NeW"
   },
   "outputs": [],
   "source": [
    "df_no_outliers['total_premiums'] = df_no_outliers['total_premiums'] ** (1/1.2)\n",
    "\n",
    "df_no_outliers['PremHousehold'] = df_no_outliers['PremHousehold'] ** (1/3)\n",
    "df_no_outliers['HouseholdPercent'] = df_no_outliers['HouseholdPercent'] ** (1/3)\n",
    "\n",
    "df_no_outliers['PremLife'] = df_no_outliers['PremLife'] ** (1/3)\n",
    "df_no_outliers['LifePercent'] = df_no_outliers['LifePercent'] ** (1/3)\n",
    "\n",
    "df_no_outliers['PremWork'] = df_no_outliers['PremWork'] ** (1/3)\n",
    "df_no_outliers['WorkPercent'] = df_no_outliers['WorkPercent'] ** (1/2)"
   ]
  },
  {
   "cell_type": "code",
   "execution_count": null,
   "metadata": {
    "colab": {
     "base_uri": "https://localhost:8080/"
    },
    "id": "N4SPaaDd3jof",
    "outputId": "aeefce28-0e8e-480b-d87f-24fef50e783a"
   },
   "outputs": [],
   "source": [
    "df_no_outliers[metric_features].skew(axis = 0)"
   ]
  },
  {
   "cell_type": "markdown",
   "metadata": {
    "id": "AZQZEIXW6IiH"
   },
   "source": [
    "| | Before | After |\n",
    "| ---- | ---- | ---- |\n",
    "|total_premiums| 1.501510 | 1.326973|\n",
    "|PremHousehold   |   1.751577 | 0.302162|\n",
    "|HouseholdPercent   |   0.717002 | -0.404910|\n",
    "|PremLife   |   1.931087 | 0.325410|\n",
    "|LifePercent   |   2.097619 | 0.231725|\n",
    "|PremWork   |   1.920139 | 0.348968|\n",
    "|WorkPercent   |   2.143754 |0.795744|\n",
    "\n",
    "\n",
    "It is not possible to unskewe total_reversals"
   ]
  },
  {
   "cell_type": "markdown",
   "metadata": {
    "id": "APupg2gnoWEx"
   },
   "source": [
    "### Scaling <a class=\"anchor\" id=\"scaling\"></a>\n",
    "\n",
    "We chose StandardScaler to scale the metric features because Standardization can help to improve the performance of k-means and other clustering algorithms by ensuring that the features are on a similar scale and have similar variances. Also, we have removed some skeweness from the data, making it more appropriate to use this scaler."
   ]
  },
  {
   "cell_type": "code",
   "execution_count": null,
   "metadata": {
    "colab": {
     "base_uri": "https://localhost:8080/",
     "height": 519
    },
    "id": "9837wD6x8Jid",
    "outputId": "ff641f26-eddf-4250-f5e6-af350ae088cf"
   },
   "outputs": [],
   "source": [
    "df_discarded"
   ]
  },
  {
   "cell_type": "code",
   "execution_count": null,
   "metadata": {
    "id": "5I0ljpzvaeai"
   },
   "outputs": [],
   "source": [
    "scaler = StandardScaler()\n",
    "\n",
    "scaled_temp = scaler.fit_transform(df_no_outliers[metric_features])\n",
    "\n",
    "df_scaled = pd.DataFrame(scaled_temp, columns = metric_features, index = df_no_outliers.index)\n",
    "\n",
    "df_scaled = pd.concat([df_scaled, df_no_outliers[non_metric_features]], axis = 1, join = 'inner')"
   ]
  },
  {
   "cell_type": "code",
   "execution_count": null,
   "metadata": {
    "id": "lAHSgfVG70B7"
   },
   "outputs": [],
   "source": [
    "# we scale the outliers using the same scaler that was fitted to the data that will be used for clustering\n",
    "scaled_temp = scaler.transform(df_discarded[metric_features])\n",
    "\n",
    "df_discarded_num = pd.DataFrame(scaled_temp, columns = metric_features, index = df_discarded.index)\n",
    "\n",
    "df_discarded = pd.concat([df_discarded_num, df_discarded[non_metric_features]], axis = 1, join = 'inner')"
   ]
  },
  {
   "cell_type": "code",
   "execution_count": null,
   "metadata": {
    "colab": {
     "base_uri": "https://localhost:8080/",
     "height": 364
    },
    "id": "Rcsxy39D9n19",
    "outputId": "c8d8df05-68f9-4ae8-f47a-a5145174c2a9"
   },
   "outputs": [],
   "source": [
    "df_discarded.describe()"
   ]
  },
  {
   "cell_type": "markdown",
   "metadata": {
    "id": "-w4qVwRFogNK"
   },
   "source": [
    "### Missing Values - Remaining Variables <a class=\"anchor\" id=\"missing\"></a>"
   ]
  },
  {
   "cell_type": "code",
   "execution_count": null,
   "metadata": {
    "colab": {
     "base_uri": "https://localhost:8080/"
    },
    "id": "nDpOcYzMQZzm",
    "outputId": "b3bfba01-75f9-46a0-e568-77af37e964a2"
   },
   "outputs": [],
   "source": [
    "df_scaled.isna().sum()"
   ]
  },
  {
   "cell_type": "markdown",
   "metadata": {
    "id": "Mo5K90apxPoi"
   },
   "source": [
    "**GeoLivArea**"
   ]
  },
  {
   "cell_type": "code",
   "execution_count": null,
   "metadata": {
    "colab": {
     "base_uri": "https://localhost:8080/",
     "height": 176
    },
    "id": "XS-pgZlfGF5V",
    "outputId": "a7ee3567-f310-4181-ecc5-1d50d2f4f4aa"
   },
   "outputs": [],
   "source": [
    "df_scaled[df_scaled[\"GeoLivArea\"].isna()]"
   ]
  },
  {
   "cell_type": "code",
   "execution_count": null,
   "metadata": {
    "id": "arqqGkVJ__Qy"
   },
   "outputs": [],
   "source": [
    "df_discarded = pd.concat([df_discarded, df_scaled[df_scaled[\"GeoLivArea\"].isna()]])"
   ]
  },
  {
   "cell_type": "code",
   "execution_count": null,
   "metadata": {
    "id": "HqbFvLA3EdiJ"
   },
   "outputs": [],
   "source": [
    "# we chose to drop because it was only one observation and it has a lot of missing values in the other columns\n",
    "df_scaled.drop(df_scaled[df_scaled[\"GeoLivArea\"].isna()].index.values, axis=0, inplace=True)"
   ]
  },
  {
   "cell_type": "markdown",
   "metadata": {
    "id": "r3ZDaf8qyUg0"
   },
   "source": [
    "**BirthYear**\n",
    "\n",
    "For the BirthYear we just used the median beacuse we considered that none of the other variables would give us information to fill this missing values with the KNN imputer"
   ]
  },
  {
   "cell_type": "code",
   "execution_count": null,
   "metadata": {
    "id": "93i_blZsUdBe"
   },
   "outputs": [],
   "source": [
    "df_scaled['BirthYear'] = df_scaled['BirthYear'].fillna(df_scaled['BirthYear'].median())"
   ]
  },
  {
   "cell_type": "markdown",
   "metadata": {
    "id": "3g_s2qtByhX9"
   },
   "source": [
    "**FirstPolYear**\n",
    "\n",
    "For the *FirstPolYear* missing values we only used information about the *BirthYear* of the 5 nearest neighbors because it was the only variable that we considered relevant"
   ]
  },
  {
   "cell_type": "code",
   "execution_count": null,
   "metadata": {
    "id": "tm3WQRNmWnQW"
   },
   "outputs": [],
   "source": [
    "imputer = KNNImputer()\n",
    "df_temp = imputer.fit_transform(df_scaled[['BirthYear','FirstPolYear']])\n",
    "df_scaled['FirstPolYear'] = pd.DataFrame(df_temp, columns=['BirthYear','FirstPolYear'], index = df_scaled.index)['FirstPolYear']"
   ]
  },
  {
   "cell_type": "markdown",
   "metadata": {
    "id": "P8Lob49GxVet"
   },
   "source": [
    "**MonthSal**\n",
    "\n",
    "We filled MonthSal missing values using information about *BirthYear* and *Premwork*\n"
   ]
  },
  {
   "cell_type": "code",
   "execution_count": null,
   "metadata": {
    "id": "eBjjBJpZQOtm"
   },
   "outputs": [],
   "source": [
    "imputer = KNNImputer()\n",
    "df_temp = imputer.fit_transform(df_scaled[['BirthYear', 'MonthSal','PremWork']])\n",
    "df_scaled['MonthSal'] = pd.DataFrame(df_temp, columns=['BirthYear', 'MonthSal','PremWork'], index = df_scaled.index)['MonthSal']"
   ]
  },
  {
   "cell_type": "markdown",
   "metadata": {
    "id": "bgIGhJYHxTOD"
   },
   "source": [
    "**Children**\n",
    "\n",
    "We filled the missing values of column *Children* based only on *BirthYear* and *MonthSal* of the 5 nearest neighbors"
   ]
  },
  {
   "cell_type": "code",
   "execution_count": null,
   "metadata": {
    "colab": {
     "base_uri": "https://localhost:8080/"
    },
    "id": "RyAqMvZ8GpIP",
    "outputId": "ea6d7037-56b7-4cd2-d214-af42a3320b30"
   },
   "outputs": [],
   "source": [
    "imputer = KNNImputer()\n",
    "\n",
    "df_temp = imputer.fit_transform(df_scaled[['BirthYear','MonthSal','Children']])\n",
    "\n",
    "df_scaled['Children'] = pd.DataFrame(df_temp, columns=['BirthYear','MonthSal','Children'], index = df_scaled.index)['Children']\n",
    "df_scaled.isna().sum()"
   ]
  },
  {
   "cell_type": "code",
   "execution_count": null,
   "metadata": {
    "colab": {
     "base_uri": "https://localhost:8080/"
    },
    "id": "hAV7A34WsNnI",
    "outputId": "55880705-cde0-4d2b-e493-a29f2f5f34f1"
   },
   "outputs": [],
   "source": [
    "# We are using 5 neighbors. If 3 of them have children, then 'Children' was converted to 3/5 = 0.6\n",
    "# This means that Children >= 0.6 -> 1; Children < 0.6 -> 0\n",
    "df_scaled['Children'].value_counts()"
   ]
  },
  {
   "cell_type": "code",
   "execution_count": null,
   "metadata": {
    "id": "839UuxMdwtGw"
   },
   "outputs": [],
   "source": [
    "df_scaled['Children'] = df_scaled['Children'].apply(lambda x: 1 if x >= 0.6 else 0)"
   ]
  },
  {
   "cell_type": "code",
   "execution_count": null,
   "metadata": {
    "colab": {
     "base_uri": "https://localhost:8080/"
    },
    "id": "7NP_soiMxKBH",
    "outputId": "00850062-4477-4390-e557-59d00488d72b"
   },
   "outputs": [],
   "source": [
    "df_scaled['Children'].value_counts()"
   ]
  },
  {
   "cell_type": "markdown",
   "metadata": {
    "id": "bVPtDISLtpKR"
   },
   "source": [
    "**EducDeg**\n",
    "\n",
    "We filled EducDeg using information about *BirthYear* and *MonthSal* to calculate the nearest neighbors and then imputing with the mode of the K nearest neighbors"
   ]
  },
  {
   "cell_type": "code",
   "execution_count": null,
   "metadata": {
    "id": "OhotAjfDxSUG"
   },
   "outputs": [],
   "source": [
    "class KNNModeImputer(BaseEstimator, TransformerMixin):\n",
    "    def __init__(self, n_neighbors=5, metric='euclidean', feat_to_impute = None, feats_nn = None):\n",
    "        self.n_neighbors = n_neighbors\n",
    "        self.metric = metric\n",
    "        self.feats_nn = feats_nn\n",
    "        self.feat_to_impute = feat_to_impute\n",
    "\n",
    "    def fit(self, X, y=None):\n",
    "        self.X_ = X\n",
    "        self.is_fitted_ = True\n",
    "        return self\n",
    "\n",
    "    def transform(self, X):\n",
    "      check_is_fitted(self, 'is_fitted_')\n",
    "\n",
    "      # create kdtree\n",
    "      tree = KDTree(self.X_[self.feats_nn], metric=self.metric)\n",
    "\n",
    "      imputed_X = X.copy()\n",
    "\n",
    "      missing_rows = X[X[self.feat_to_impute].isna()]\n",
    "\n",
    "      distances, indices = tree.query(missing_rows[self.feats_nn].values, k= self.n_neighbors)\n",
    "\n",
    "      missing_idx = np.array(missing_rows.index)\n",
    "\n",
    "      for m_idx, n_idx in enumerate(indices):\n",
    "        k_neighbors = self.X_.loc[n_idx, self.feat_to_impute]\n",
    "        mode = Counter(k_neighbors).most_common(1)[0][0]\n",
    "        imputed_X.loc[missing_idx[m_idx], self.feat_to_impute] = mode\n",
    "\n",
    "      return imputed_X"
   ]
  },
  {
   "cell_type": "code",
   "execution_count": null,
   "metadata": {
    "id": "BXJRv16-t2UM"
   },
   "outputs": [],
   "source": [
    "# Impute the missing values using KNN Mode\n",
    "imputer = KNNModeImputer(n_neighbors = 5, feat_to_impute = 'EducDeg', feats_nn = ['BirthYear', 'MonthSal'])\n",
    "df_imputed = imputer.fit_transform(df_scaled)\n",
    "\n",
    "# The imputed dataset is returned as a NumPy array, so we need to convert it back to a Pandas dataframe\n",
    "df_scaled = pd.DataFrame(df_imputed, columns=df_scaled.columns)"
   ]
  },
  {
   "cell_type": "code",
   "execution_count": null,
   "metadata": {
    "colab": {
     "base_uri": "https://localhost:8080/"
    },
    "id": "lEEreOYYyJvw",
    "outputId": "d2ebbf8b-9240-4a50-ddbe-60f00e283f1e"
   },
   "outputs": [],
   "source": [
    "df_scaled['EducDeg'].value_counts()"
   ]
  },
  {
   "cell_type": "code",
   "execution_count": null,
   "metadata": {
    "colab": {
     "base_uri": "https://localhost:8080/"
    },
    "id": "dnQseFPW17pM",
    "outputId": "3a67db6d-9800-4f39-9791-e3459be6b272"
   },
   "outputs": [],
   "source": [
    "df_scaled.isna().sum()"
   ]
  },
  {
   "cell_type": "markdown",
   "metadata": {
    "id": "E_7yKYMN4FA-"
   },
   "source": [
    "### Outliers using DBScan <a class=\"anchor\" id=\"outliersDBScan\"></a>\n",
    "\n",
    "After filling the missing values, we can re-check the presence of outliers"
   ]
  },
  {
   "cell_type": "code",
   "execution_count": null,
   "metadata": {
    "id": "LAfVDChX4L5I"
   },
   "outputs": [],
   "source": [
    "def plot_nearest_neighbors_dist(df, minNeigh):\n",
    "  \"\"\"\n",
    "    Auxiliary function that plots the distance to the furthest neighbour among minNeigh nearest neighbors\n",
    "  \"\"\"\n",
    "\n",
    "  neigh = NearestNeighbors(n_neighbors = minNeigh)\n",
    "  neigh.fit(df)\n",
    "\n",
    "  dists, _ = neigh.kneighbors(df)\n",
    "\n",
    "  # Sorted distances to the minPts neighbors\n",
    "  dists = np.sort(dists[:, -1])\n",
    "\n",
    "  plt.figure(figsize = (12, 10))\n",
    "  plt.xlabel('Distances')\n",
    "  plt.ylabel('Relative frequency')\n",
    "  plt.title('Plot to choose the best epsilon to use in DBScan')\n",
    "  plt.plot(dists)"
   ]
  },
  {
   "cell_type": "code",
   "execution_count": null,
   "metadata": {
    "colab": {
     "base_uri": "https://localhost:8080/",
     "height": 627
    },
    "id": "UDyOxGhE4L5J",
    "outputId": "d27b2d88-205d-4f1e-e2af-b04d0879cf85"
   },
   "outputs": [],
   "source": [
    "# we do not use 'ClaimsRate' and 'CustMonVal' at the same, we just use one or the other because\n",
    "# we know they are redundant as we have seen in exploration\n",
    "# We do not use 'MonthSal' and 'BirthYear' for the same reason.\n",
    "# We also do not use Prem'Percent' features because they are redundant with the original Prem features\n",
    "\n",
    "metric_features_pre_engineering = ['FirstPolYear', 'MonthSal', 'ClaimsRate', 'PremMotor', 'PremHousehold', 'PremHealth', 'PremLife', 'PremWork']\n",
    "\n",
    "plot_nearest_neighbors_dist(df_scaled[metric_features_pre_engineering], 2*len(metric_features_pre_engineering))"
   ]
  },
  {
   "cell_type": "code",
   "execution_count": null,
   "metadata": {
    "id": "SonD5Fd64L5J"
   },
   "outputs": [],
   "source": [
    "dbscan = DBSCAN(eps=1.7, min_samples=(2 * len(metric_features_pre_engineering)), n_jobs=4)\n",
    "dbscan_labels = dbscan.fit_predict(df_scaled[metric_features_pre_engineering])"
   ]
  },
  {
   "cell_type": "code",
   "execution_count": null,
   "metadata": {
    "colab": {
     "base_uri": "https://localhost:8080/",
     "height": 519
    },
    "id": "yvyQXvPcVfm6",
    "outputId": "b0cc441a-512c-4b10-845e-3e58fa37269a"
   },
   "outputs": [],
   "source": [
    "df_scaled[dbscan_labels == -1]"
   ]
  },
  {
   "cell_type": "code",
   "execution_count": null,
   "metadata": {
    "id": "9hcOdq7W61uN"
   },
   "outputs": [],
   "source": [
    "df_discarded = pd.concat([df_discarded, df_scaled[dbscan_labels == -1]])"
   ]
  },
  {
   "cell_type": "code",
   "execution_count": null,
   "metadata": {
    "colab": {
     "base_uri": "https://localhost:8080/"
    },
    "id": "ZIarf4Za6-2d",
    "outputId": "08328c1b-d4c9-479e-a147-efc6da246092"
   },
   "outputs": [],
   "source": [
    "df_discarded.shape"
   ]
  },
  {
   "cell_type": "code",
   "execution_count": null,
   "metadata": {
    "id": "UFQtQGoH7Gti"
   },
   "outputs": [],
   "source": [
    "# we remove the outliers\n",
    "df_scaled = df_scaled[dbscan_labels != -1]"
   ]
  },
  {
   "cell_type": "code",
   "execution_count": null,
   "metadata": {
    "colab": {
     "base_uri": "https://localhost:8080/"
    },
    "id": "Uz1VmkE27oCs",
    "outputId": "a37e6018-e404-45d7-c19c-806c8b39fc1f"
   },
   "outputs": [],
   "source": [
    "print(f'Percentage of total removed data: {np.round(((10296 - df_scaled.shape[0]) / 10296) * 100, 4)} %')"
   ]
  },
  {
   "cell_type": "code",
   "execution_count": null,
   "metadata": {
    "colab": {
     "base_uri": "https://localhost:8080/"
    },
    "id": "_fpBujqp_dhi",
    "outputId": "6c24cd06-f95d-4ce2-e97b-c34fd066d21b"
   },
   "outputs": [],
   "source": [
    "df_scaled.shape"
   ]
  },
  {
   "cell_type": "markdown",
   "metadata": {
    "id": "LmTxc2675QFR"
   },
   "source": [
    "## Segmentation perspectives <a class=\"anchor\" id=\"perpectives\"></a>"
   ]
  },
  {
   "cell_type": "markdown",
   "metadata": {
    "id": "ct-DpX9e5QFS"
   },
   "source": [
    "### Socio-Demographic <a class=\"anchor\" id=\"sociodemo\"></a>"
   ]
  },
  {
   "cell_type": "markdown",
   "metadata": {
    "id": "O5iElsS55QFS"
   },
   "source": [
    "Feature we can use:\n",
    "\n",
    "- BirthYear\n",
    "- EducDeg\n",
    "- MonthSal\n",
    "- GeoLivArea\n",
    "- Children"
   ]
  },
  {
   "cell_type": "markdown",
   "metadata": {
    "id": "XwSXgoYO5QFS"
   },
   "source": [
    "### Value <a class=\"anchor\" id=\"value\"></a>"
   ]
  },
  {
   "cell_type": "markdown",
   "metadata": {
    "id": "m3ct9udr5QFT"
   },
   "source": [
    "- FirstPolYear\n",
    "- MonthSal\n",
    "- CustMonVal\n",
    "- ClaimsRate\n",
    "- total_premiums\n",
    "- total_reversals"
   ]
  },
  {
   "cell_type": "markdown",
   "metadata": {
    "id": "9dOyRz-15QFT"
   },
   "source": [
    "### Product <a class=\"anchor\" id=\"product\"></a>"
   ]
  },
  {
   "cell_type": "markdown",
   "metadata": {
    "id": "JnG9r6CP5QFT"
   },
   "source": [
    "For global interpretation comparing all clients with each other\n",
    "- PremMotor\n",
    "- PremHousehold\n",
    "- PremHealth\n",
    "- PremLife\n",
    "- PremWork\n",
    "\n",
    "For interpretation about individual behaviour of each client in comparison with the others\n",
    "- MotorPercent\n",
    "- HouseholdPercent\n",
    "- HealthPercent\n",
    "- LifePercent\n",
    "- WorkPercent"
   ]
  },
  {
   "cell_type": "markdown",
   "metadata": {
    "id": "lPc14VLn3JSP"
   },
   "source": [
    "## Assessment of the Discriminative Power of Features <a class=\"anchor\" id=\"discriminativePower\"></a>"
   ]
  },
  {
   "cell_type": "markdown",
   "metadata": {
    "id": "ZIQuKOoVaZw4"
   },
   "source": [
    "### Numerical Variables <a class=\"anchor\" id=\"numerical\"></a>\n",
    "\n",
    "\n"
   ]
  },
  {
   "cell_type": "markdown",
   "metadata": {
    "id": "FYjX3-ZL3JSR"
   },
   "source": [
    "#### Pairplot of metric features <a class=\"anchor\" id=\"pairplot\"></a>"
   ]
  },
  {
   "cell_type": "code",
   "execution_count": null,
   "metadata": {
    "colab": {
     "base_uri": "https://localhost:8080/",
     "height": 1000
    },
    "id": "X_FGm9983JSR",
    "outputId": "3965de57-730d-43d6-9270-a58b508396ea"
   },
   "outputs": [],
   "source": [
    "plot = sns.pairplot(df_scaled[metric_features])\n",
    "plot.fig.suptitle('Pairplot of metric features', fontsize = 30)\n",
    "plt.subplots_adjust(top=0.9)"
   ]
  },
  {
   "cell_type": "markdown",
   "metadata": {
    "id": "WwMg_QSIDrjR"
   },
   "source": [
    "#### Spearman Correlation between metric and ordinal features <a class=\"anchor\" id=\"spearman\"></a>"
   ]
  },
  {
   "cell_type": "code",
   "execution_count": null,
   "metadata": {
    "colab": {
     "base_uri": "https://localhost:8080/",
     "height": 1000
    },
    "id": "4vrkIvhDDrB5",
    "outputId": "75cbdbd2-124f-41ef-bcd5-e84f4db582a2"
   },
   "outputs": [],
   "source": [
    "fig = plt.figure(figsize=(20, 20))\n",
    "\n",
    "corr = np.round(df_scaled[metric_features + ['EducDeg']].corr(method=\"spearman\"), decimals=2)\n",
    "\n",
    "annotation = np.where(np.absolute(corr.values) >= 0.5, corr.values, np.full(corr.shape,\"\"))\n",
    "\n",
    "sns.heatmap(data=corr, annot=annotation, cmap='BrBG', fmt='s', center=0, square=True, linewidths=.5)\n",
    "\n",
    "fig.suptitle(\"Numerical + Ordinal features Spearman Correlation Matrix after preprocessing\", fontsize = 20, y = 0.85, x = 0.45)\n",
    "plt.show()"
   ]
  },
  {
   "cell_type": "markdown",
   "metadata": {
    "id": "I8nYo-J8YoCb"
   },
   "source": [
    "*ClaimsRate* and *CustMonVal* are highly correlated as we have seen before. *BirthYear* and *MonthSal* are also highly correlated, so they should not be used togheter. Regrading premiums, we should either use the total values or the percentage values, but never all togheter.\n",
    "\n",
    "\n",
    "*ClaimsRate* and *CustMonVal* are also not really correlated with any other variable, thus we will not consider them for clustering"
   ]
  },
  {
   "cell_type": "markdown",
   "metadata": {
    "id": "Lyc0p_gKSV00"
   },
   "source": [
    "#### Component Planes <a class=\"anchor\" id=\"componentPlanes\"></a>"
   ]
  },
  {
   "cell_type": "code",
   "execution_count": null,
   "metadata": {
    "id": "6ZvwacoO3JSV"
   },
   "outputs": [],
   "source": [
    "np.random.seed(20)\n",
    "\n",
    "# 15 x 15 SOM hexagonal matrix\n",
    "sm = sompy.SOMFactory().build(\n",
    "    df_scaled[metric_features].values, \n",
    "    mapsize=[15, 15],\n",
    "    initialization='random', \n",
    "    neighborhood='gaussian',\n",
    "    training='batch',\n",
    "    lattice='hexa',\n",
    "    component_names=metric_features\n",
    ")\n",
    "sm.train(n_job=4, verbose = False, train_rough_len=100, train_finetune_len=100)"
   ]
  },
  {
   "cell_type": "code",
   "execution_count": null,
   "metadata": {
    "colab": {
     "base_uri": "https://localhost:8080/",
     "height": 1000
    },
    "id": "FsG3qFJCGdA6",
    "outputId": "d48d5b95-0fcf-4c4d-daa9-d1ea0f193f70"
   },
   "outputs": [],
   "source": [
    "sns.set()\n",
    "view2D = View2D(12, 12, \"\", text_size=10)\n",
    "view2D.show(sm, col_sz = 4, cmap = 'Purples')\n",
    "plt.suptitle(\"Component Planes\", fontsize=20)\n",
    "plt.show()"
   ]
  },
  {
   "cell_type": "markdown",
   "metadata": {
    "id": "6nBgZ98FE54B"
   },
   "source": [
    "*total_reversals* does not seem to have good discriminative power, thus it will only be used for profilling and not for clustering."
   ]
  },
  {
   "cell_type": "markdown",
   "metadata": {
    "id": "3agYa4Eoafz0"
   },
   "source": [
    "### Categorical Variables <a class=\"anchor\" id=\"categorical\"></a>"
   ]
  },
  {
   "cell_type": "code",
   "execution_count": null,
   "metadata": {
    "colab": {
     "base_uri": "https://localhost:8080/",
     "height": 302
    },
    "id": "eDNCKtBldSES",
    "outputId": "8a535f3d-57e4-4c63-a51f-4069f868ea7d"
   },
   "outputs": [],
   "source": [
    "# Children vs Geolivarea\n",
    "\n",
    "# Percentage of clients living in each area knowing they have and have not children\n",
    "df_percent = df_scaled.groupby('Children')['GeoLivArea'].value_counts(normalize = True).reset_index(name = 'percentage')\n",
    "sns.barplot(data = df_percent, x = 'Children', y = 'percentage', hue = 'GeoLivArea')\n",
    "\n",
    "# Same percentage of people from all areas among people with and without children"
   ]
  },
  {
   "cell_type": "code",
   "execution_count": null,
   "metadata": {
    "colab": {
     "base_uri": "https://localhost:8080/",
     "height": 302
    },
    "id": "z3un8eBChY9H",
    "outputId": "d5dd44d6-335e-4cef-dc22-228e05b3ae75"
   },
   "outputs": [],
   "source": [
    "# Children vs Educdeg\n",
    "\n",
    "df_percent = df_scaled.groupby('Children')['EducDeg'].value_counts(normalize = True).reset_index(name = 'percentage')\n",
    "sns.barplot(data = df_percent, x = 'Children', y = 'percentage', hue = 'EducDeg')\n",
    "\n",
    "# Same percentage of people with all education degrees among people with and without children"
   ]
  },
  {
   "cell_type": "code",
   "execution_count": null,
   "metadata": {
    "colab": {
     "base_uri": "https://localhost:8080/",
     "height": 302
    },
    "id": "w4iMmDTSVq-G",
    "outputId": "85106e65-0f1d-468f-8837-7a615c288b31"
   },
   "outputs": [],
   "source": [
    "# GeoLivArea vs EducDeg\n",
    "\n",
    "sns.histplot(data = df_scaled, x = 'EducDeg', hue = 'GeoLivArea')\n",
    "\n",
    "# Again, we see a really similar percentage of people from different areas in each EducDeg value"
   ]
  },
  {
   "cell_type": "code",
   "execution_count": null,
   "metadata": {
    "colab": {
     "base_uri": "https://localhost:8080/",
     "height": 302
    },
    "id": "gHfXjGhqZQD-",
    "outputId": "5884a565-fc6d-49e4-ed60-61b28f75927a"
   },
   "outputs": [],
   "source": [
    "# Children vs Birthyear\n",
    "\n",
    "sns.histplot(data = df_scaled, x = 'BirthYear', hue = 'Children')\n",
    "\n",
    "# The existence of children varies a lot with the age"
   ]
  },
  {
   "cell_type": "code",
   "execution_count": null,
   "metadata": {
    "colab": {
     "base_uri": "https://localhost:8080/",
     "height": 302
    },
    "id": "HgjoMiqrZg_u",
    "outputId": "e6f24058-f9c4-4644-c96f-8d989a98d738"
   },
   "outputs": [],
   "source": [
    "# Geolivarea vs Birthyear\n",
    "\n",
    "sns.violinplot(data=df, x=\"GeoLivArea\", y=\"BirthYear\")\n",
    "\n",
    "# No big of a difference between living areas among people from different ages"
   ]
  },
  {
   "cell_type": "code",
   "execution_count": null,
   "metadata": {
    "colab": {
     "base_uri": "https://localhost:8080/",
     "height": 302
    },
    "id": "oTRgjHfbpfoo",
    "outputId": "66cc4fb6-7c93-4755-9936-a404c4fedce9"
   },
   "outputs": [],
   "source": [
    "# Educdeg vs Birthyear\n",
    "\n",
    "sns.violinplot(data=df, x=\"EducDeg\", y=\"BirthYear\")"
   ]
  },
  {
   "cell_type": "code",
   "execution_count": null,
   "metadata": {
    "colab": {
     "base_uri": "https://localhost:8080/",
     "height": 302
    },
    "id": "dVE0h6uSgHTR",
    "outputId": "97d8ce0c-ba63-4baa-ae4e-498d752379ab"
   },
   "outputs": [],
   "source": [
    "# Birthyear vs Geolivarea vs Children\n",
    "\n",
    "sns.violinplot(data=df, x=\"GeoLivArea\", y=\"BirthYear\", hue=\"Children\", split=True)\n",
    "\n",
    "# Really similar distributions"
   ]
  },
  {
   "cell_type": "code",
   "execution_count": null,
   "metadata": {
    "colab": {
     "base_uri": "https://localhost:8080/",
     "height": 305
    },
    "id": "qDzt9zdvgWi6",
    "outputId": "6a84e0d7-14cc-4475-fd2e-8224c6878a7c"
   },
   "outputs": [],
   "source": [
    "# Birthyear vs Educdeg vs Children\n",
    "\n",
    "sns.violinplot(data=df, x=\"EducDeg\", y=\"BirthYear\", hue=\"Children\", split=True)\n",
    "\n",
    "# This combination gives us different distributions of data, thus being ideal for clustering"
   ]
  },
  {
   "cell_type": "markdown",
   "metadata": {
    "id": "AuH5gaaTkjIy"
   },
   "source": [
    "We choose to exclude GeoLivArea from clustering as it does not seem to introduce any discriminative power when used togheter with the other Socio-Demographic variables."
   ]
  },
  {
   "cell_type": "markdown",
   "metadata": {
    "id": "21yuxAShmGMy"
   },
   "source": [
    "Conclusion:\n",
    "\n",
    "Socio-demographic clustering:\n",
    "- BirthYear\n",
    "- EducDeg\n",
    "- Children\n",
    "\n",
    "Value:\n",
    "\n",
    "- FirstPolYear\n",
    "- MonthSal\n",
    "- total_premiums\n",
    "\n",
    "Product\n",
    "\n",
    "- PremMotor\n",
    "- PremHousehold\n",
    "- PremHealth\n",
    "- PremLife\n",
    "- PremWork\n",
    "\n",
    "and\n",
    "\n",
    "- MotorPercent\n",
    "- HouseholdPercent\n",
    "- HealthPercent\n",
    "- LifePercent\n",
    "- WorkPercent"
   ]
  },
  {
   "cell_type": "markdown",
   "metadata": {
    "id": "ianzdqAkxZ0Z"
   },
   "source": [
    "## Determining the Clustering Tendency of Data <a class=\"anchor\" id=\"tendency\"></a>\n",
    "\n",
    "After some analysis of the discriminative power of features and choosing the final ones, we decided to also analyse the clustering tendency of data using the sets of features selected.\n",
    "This could help us avoid the time and effort of performing unnecessary clustering steps without knowing more confidently that the results would be satisfactory"
   ]
  },
  {
   "cell_type": "markdown",
   "metadata": {
    "id": "ef_G5pRWvjvd"
   },
   "source": [
    "### 3D visualizations <a class=\"anchor\" id=\"3DVisualizations\"></a>"
   ]
  },
  {
   "cell_type": "markdown",
   "metadata": {
    "id": "wzr59ilQdjpR"
   },
   "source": [
    "**Value**"
   ]
  },
  {
   "cell_type": "code",
   "execution_count": null,
   "metadata": {
    "id": "oOlPxkIYvkrs"
   },
   "outputs": [],
   "source": [
    "value_feats = ['FirstPolYear', 'MonthSal', 'total_premiums']"
   ]
  },
  {
   "cell_type": "code",
   "execution_count": null,
   "metadata": {
    "colab": {
     "base_uri": "https://localhost:8080/",
     "height": 517
    },
    "id": "TP_ZYr0Y-xH3",
    "outputId": "42dc0fe7-895f-4625-c1a1-89b03b3a7fb0"
   },
   "outputs": [],
   "source": [
    "fig = px.scatter_3d(df_scaled, x='FirstPolYear', y='MonthSal', z='total_premiums')\n",
    "\n",
    "fig.update_traces(marker_size = 2)\n",
    "\n",
    "fig.update_layout(\n",
    "    title_text='3D Scatter Plot of Value features',\n",
    "    title_font_size = 18,\n",
    "    height=500,\n",
    "    width=700,\n",
    "    scene=dict(aspectmode='manual', aspectratio=dict(x=1, y=1, z=1))\n",
    ")\n",
    "\n",
    "fig.show()"
   ]
  },
  {
   "cell_type": "markdown",
   "metadata": {
    "id": "CfD6ptyDxdfU"
   },
   "source": [
    "**Product**"
   ]
  },
  {
   "cell_type": "code",
   "execution_count": null,
   "metadata": {
    "id": "wMMHQGw83GyT"
   },
   "outputs": [],
   "source": [
    "product_feats = [\"PremMotor\", \"PremHousehold\", \"PremHealth\", \"PremLife\", \"PremWork\"]\n",
    "product_feats2 = [\"MotorPercent\", \"HouseholdPercent\", \"HealthPercent\",\"LifePercent\",\"WorkPercent\"]"
   ]
  },
  {
   "cell_type": "code",
   "execution_count": null,
   "metadata": {
    "colab": {
     "base_uri": "https://localhost:8080/",
     "height": 837
    },
    "id": "7wj-oQUnzTwY",
    "outputId": "f3b0cd96-757c-4648-f2f6-515d39e3c98f"
   },
   "outputs": [],
   "source": [
    "combs = list(itertools.combinations(product_feats,3))\n",
    "\n",
    "n_cols = 5\n",
    "n_rows = 2\n",
    "\n",
    "fig = make_subplots(\n",
    "    rows=n_rows, cols=n_cols,\n",
    "    specs=[[{'type': 'scene'}]*n_cols]*n_rows,\n",
    "    subplot_titles=[f\"{comb[0]}, {comb[1]}, {comb[2]}\" for comb in combs])\n",
    "\n",
    "for i, comb in enumerate(combs):\n",
    "  r = floor(i / n_cols) + 1\n",
    "  c = (i % n_cols) + 1\n",
    "\n",
    "  fig.add_scatter3d(\n",
    "    x=df_scaled[comb[0]], y=df_scaled[comb[1]], z=df_scaled[comb[2]],\n",
    "    row=r, col=c, mode='markers', showlegend=False)\n",
    "  \n",
    "fig.update_layout(\n",
    "    title_text='3D Scatter Plots of the combinations of the first set of Product features',\n",
    "    title_font_size = 18,\n",
    "    height=800,\n",
    "    width=1600\n",
    ")\n",
    "\n",
    "fig.update_traces(marker_size=2)\n",
    "\n",
    "fig.update_annotations(font_size=12)\n",
    "fig.show()\n"
   ]
  },
  {
   "cell_type": "code",
   "execution_count": null,
   "metadata": {
    "colab": {
     "base_uri": "https://localhost:8080/",
     "height": 837
    },
    "id": "aXEeTFsO3bSq",
    "outputId": "9fbf93a0-cbf8-433c-e780-db8fc48a48ee"
   },
   "outputs": [],
   "source": [
    "combs = list(itertools.combinations(product_feats2,3))\n",
    "\n",
    "fig = make_subplots(\n",
    "    rows=n_rows, cols=n_cols,\n",
    "    specs=[[{'type': 'scene'}]*n_cols]*n_rows,\n",
    "    subplot_titles=[f\"{comb[0]}, {comb[1]}, {comb[2]}\" for comb in combs])\n",
    "\n",
    "for i, comb in enumerate(combs):\n",
    "  r = floor(i / n_cols) + 1\n",
    "  c = (i % n_cols) + 1\n",
    "\n",
    "  fig.add_scatter3d(\n",
    "    x=df_scaled[comb[0]], y=df_scaled[comb[1]], z=df_scaled[comb[2]],\n",
    "    row=r, col=c, marker = go.scatter3d.Marker(size=2), mode='markers', showlegend=False)\n",
    "  \n",
    "fig.update_layout(\n",
    "    title_text='3D Scatter Plots of the combinations of the second set of Product features',\n",
    "    title_font_size = 18,\n",
    "    height=800,\n",
    "    width=1600\n",
    ")\n",
    "\n",
    "fig.update_annotations(font_size=12)\n",
    "fig.show()\n"
   ]
  },
  {
   "cell_type": "markdown",
   "metadata": {
    "id": "yngxz-ZWxilD"
   },
   "source": [
    "### Distance matrix <a class=\"anchor\" id=\"distanceMatrix\"></a>"
   ]
  },
  {
   "cell_type": "markdown",
   "metadata": {
    "id": "UsHEOOcuW6Cj"
   },
   "source": [
    "**Socio-demographic**"
   ]
  },
  {
   "cell_type": "code",
   "execution_count": null,
   "metadata": {
    "colab": {
     "base_uri": "https://localhost:8080/",
     "height": 1000
    },
    "id": "KODq3NDXGhoi",
    "outputId": "3b911b8a-86dc-4384-f11c-8a29ec92a231"
   },
   "outputs": [],
   "source": [
    "distance_matrix = gower.gower_matrix(df_scaled[['BirthYear', 'EducDeg', 'Children']], cat_features = [False, True, True])\n",
    "\n",
    "fig = plt.figure(figsize=(30, 30))\n",
    "plt.imshow(distance_matrix, cmap = 'plasma')\n",
    "plt.title('Pairwise distance matrix under a Socio-Demographic clustering perspective', fontsize = 50)\n",
    "plt.show()"
   ]
  },
  {
   "cell_type": "markdown",
   "metadata": {
    "id": "_xSZYBrlxlN7"
   },
   "source": [
    "**Value**"
   ]
  },
  {
   "cell_type": "code",
   "execution_count": null,
   "metadata": {
    "id": "dSm7t5glx2M1"
   },
   "outputs": [],
   "source": [
    "def plot_distance_matrix(df, perspective):\n",
    "\n",
    "  plt.figure(figsize = (60, 60))\n",
    "  distance_df = squareform(pdist(df))\n",
    "\n",
    "  fig = plt.figure(figsize=(30, 30))\n",
    "  plt.imshow(distance_df, cmap = 'plasma')\n",
    "  plt.title(f'Pairwise distance matrix under a {perspective} clustering perspective', fontsize = 50)\n",
    "  plt.show()"
   ]
  },
  {
   "cell_type": "code",
   "execution_count": null,
   "metadata": {
    "colab": {
     "base_uri": "https://localhost:8080/",
     "height": 1000
    },
    "id": "3Jci4iMXyNIw",
    "outputId": "356fe044-2e71-43d7-9461-5345e8f95837"
   },
   "outputs": [],
   "source": [
    "plot_distance_matrix(df_scaled[value_feats], 'Value')"
   ]
  },
  {
   "cell_type": "markdown",
   "metadata": {
    "id": "Br8d0GTgxmK0"
   },
   "source": [
    "**Product**"
   ]
  },
  {
   "cell_type": "code",
   "execution_count": null,
   "metadata": {
    "colab": {
     "base_uri": "https://localhost:8080/",
     "height": 1000
    },
    "id": "QBVp7hSFyuP3",
    "outputId": "79a04358-d601-493a-b360-3a069e1af224"
   },
   "outputs": [],
   "source": [
    "plot_distance_matrix(df_scaled[product_feats], 'Product (total premiums)')"
   ]
  },
  {
   "cell_type": "code",
   "execution_count": null,
   "metadata": {
    "colab": {
     "base_uri": "https://localhost:8080/",
     "height": 1000
    },
    "id": "HbzCldf2y2lt",
    "outputId": "cec70bdc-3149-4f1e-f207-67af531867f3"
   },
   "outputs": [],
   "source": [
    "plot_distance_matrix(df_scaled[product_feats2], 'Product (premiums percentage)')"
   ]
  },
  {
   "cell_type": "markdown",
   "metadata": {
    "id": "d5OirgSW5_un"
   },
   "source": [
    "### Hopkins test <a class=\"anchor\" id=\"hopkinsTest\"></a>\n",
    "\n",
    "Tests if data is uniformly distributed"
   ]
  },
  {
   "cell_type": "code",
   "execution_count": null,
   "metadata": {
    "id": "LiHk9ut6Zjw3"
   },
   "outputs": [],
   "source": [
    "from random import sample\n",
    "from numpy.random import uniform\n",
    "\n",
    "# function to compute hopkins's statistic for the dataframe X\n",
    "def hopkins_statistic(X):\n",
    "    \n",
    "    X=X.values  #convert dataframe to a numpy array\n",
    "    sample_size = int(X.shape[0]*0.05) #0.05 (5%) based on paper by Lawson and Jures\n",
    "    \n",
    "    #a uniform random sample in the original data space\n",
    "    X_uniform_random_sample = uniform(X.min(axis=0), X.max(axis=0) ,(sample_size , X.shape[1]))\n",
    "    \n",
    "    #a random sample of size sample_size from the original data X\n",
    "    random_indices=sample(range(0, X.shape[0], 1), sample_size)\n",
    "    X_sample = X[random_indices]\n",
    "   \n",
    "    #initialise unsupervised learner for implementing neighbor searches\n",
    "    neigh = NearestNeighbors(n_neighbors=2)\n",
    "    nbrs=neigh.fit(X)\n",
    "    \n",
    "    #u_distances = nearest neighbour distances from uniform random sample\n",
    "    u_distances , u_indices = nbrs.kneighbors(X_uniform_random_sample , n_neighbors=2)\n",
    "    u_distances = u_distances[: , 0] #distance to the first (nearest) neighbour\n",
    "    \n",
    "    #w_distances = nearest neighbour distances from a sample of points from original data X\n",
    "    w_distances , w_indices = nbrs.kneighbors(X_sample , n_neighbors=2)\n",
    "    #distance to the second nearest neighbour (as the first neighbour will be the point itself, with distance = 0)\n",
    "    w_distances = w_distances[: , 1]\n",
    "    \n",
    "    u_sum = np.sum(u_distances)\n",
    "    w_sum = np.sum(w_distances)\n",
    "    \n",
    "    #compute and return hopkins' statistic\n",
    "    H = u_sum/ (u_sum + w_sum)\n",
    "    return H\n",
    "\n",
    "# SOURCE: https://github.com/prathmachowksey/Hopkins-Statistic-Clustering-Tendency/blob/master/Hopkins-Statistic-Clustering-Tendency.ipynb"
   ]
  },
  {
   "cell_type": "markdown",
   "metadata": {
    "id": "yxlZlm31601V"
   },
   "source": [
    "**Value**"
   ]
  },
  {
   "cell_type": "code",
   "execution_count": null,
   "metadata": {
    "colab": {
     "base_uri": "https://localhost:8080/"
    },
    "id": "-WrU9XluZ7hD",
    "outputId": "c139364d-740c-4286-a79b-e41b1e6d140e"
   },
   "outputs": [],
   "source": [
    "l = [] #list to hold values for each call\n",
    "for i in range(20):\n",
    "    H=hopkins_statistic(df_scaled[value_feats])\n",
    "    l.append(H)\n",
    "\n",
    "np.mean(l) # really high tendency!"
   ]
  },
  {
   "cell_type": "markdown",
   "metadata": {
    "id": "nyfMyA9x62QN"
   },
   "source": [
    "**Product**"
   ]
  },
  {
   "cell_type": "code",
   "execution_count": null,
   "metadata": {
    "colab": {
     "base_uri": "https://localhost:8080/"
    },
    "id": "RhFxyoVj64B0",
    "outputId": "80405e75-373d-4a6d-9387-c9711e30f252"
   },
   "outputs": [],
   "source": [
    "l = []\n",
    "for i in range(20):\n",
    "    H=hopkins_statistic(df_scaled[product_feats])\n",
    "    l.append(H)\n",
    "\n",
    "np.mean(l) # really high tendency!"
   ]
  },
  {
   "cell_type": "code",
   "execution_count": null,
   "metadata": {
    "colab": {
     "base_uri": "https://localhost:8080/"
    },
    "id": "bmiMY5p90Oc0",
    "outputId": "e174329e-4fbd-4943-8d0d-7e803bca605b"
   },
   "outputs": [],
   "source": [
    "l = []\n",
    "for i in range(20):\n",
    "    H=hopkins_statistic(df_scaled[product_feats2])\n",
    "    l.append(H)\n",
    "\n",
    "np.mean(l) # really high tendency!"
   ]
  },
  {
   "cell_type": "markdown",
   "metadata": {
    "id": "MSqttpy60pqk"
   },
   "source": [
    "## Clustering <a class=\"anchor\" id=\"clustering\"></a>"
   ]
  },
  {
   "cell_type": "markdown",
   "metadata": {
    "id": "JiyCyaxTo9dG"
   },
   "source": [
    "For ***Socio-Demographic***:\n",
    "\n",
    "K-Prototypes:\n",
    "1. Find best number of cluster using the elbow method\n",
    "\n",
    "Hierarchical Clustering\n",
    "1. Calculate gower distance matrix\n",
    "2. Choose best linkage by plotting silhouette scores across a number of clusters\n",
    "3. Choose best number of clusters with a dendogram\n",
    "\n",
    "K-Medoids (PAM)\n",
    "1. Choose best number of clusters using elbow and silhouette\n",
    "\n",
    "<br>\n",
    "\n",
    "For both ***Value*** and ***Product***:\n",
    "\n",
    "Hierarquical:\n",
    "1. For each linkage, plot the r2 scores across a number of clusters to determine the best one\n",
    "2. Choose the ideal number of clusters using the dendogram\n",
    "\n",
    "Kmeans:\n",
    "To choose the best number of clusters\n",
    "1. Elbow method\n",
    "2. Silhouette score\n",
    "3. K-Means with large nr of cluster followed by HC\n",
    "\n",
    "Mean-Shift:\n",
    "1. Estimate bandwidth\n",
    "\n",
    "DBScan\n",
    "1. Define min_samples\n",
    "2. Define eps\n",
    "\n",
    "SOM\n",
    "1. Train SOM\n",
    "2. Plot U-Matrix\n",
    "3. Plot HitMap\n",
    "\n",
    "SOM + hierarquical:\n",
    "1. Choose best linkage by plotting r2 scores for clustering the SOM units across a number of clusters\n",
    "2. Choose best number of cluster using the dendogram\n",
    "\n",
    "SOM + kmeans:\n",
    "1. Same as K-Means but this time clustering the SOM units instead of the original data points\n",
    "\n",
    "For each set of features: Perform the clustering and get r2 score and silhouette\n",
    "\n"
   ]
  },
  {
   "cell_type": "markdown",
   "metadata": {
    "id": "U9JW578RM0CN"
   },
   "source": [
    "#### Auxiliary functions"
   ]
  },
  {
   "cell_type": "code",
   "execution_count": null,
   "metadata": {
    "id": "VwZEUiKrc97F"
   },
   "outputs": [],
   "source": [
    "# ----------------------- GENERAL Auxiliary Functions ---------------------------------#\n",
    "def get_sst(df):\n",
    "  \"\"\"\n",
    "    Calculates the um of squared distances of each point to the mean of the points\n",
    "\n",
    "  \"\"\"\n",
    "  return np.sum(df.var() * (df.count() - 1))\n",
    "\n",
    "def get_r2(df, labels):\n",
    "  \"\"\"\n",
    "    Calculates r2 given a dataframe and the clustering solution\n",
    "  \"\"\"\n",
    "  sst = get_sst(df)\n",
    "  ssw = np.sum(df.groupby(labels).apply(get_sst))\n",
    "  ssb = sst - ssw\n",
    "  return ssb / sst\n",
    "\n",
    "# ----------------------- HIERARQUICAL Auxiliary Functions ---------------------------------#\n",
    "\n",
    "def get_hierarquical_scores(df, min_clust, max_clust):\n",
    "  \"\"\"\n",
    "    Returns r2 scores for each nr of clusters and each linkage method\n",
    "  \"\"\"\n",
    "  hc_r2_scores = {}\n",
    "\n",
    "  # get r2 scores for each model\n",
    "  for linkage in ['single', 'complete', 'average', 'ward']:\n",
    "    r2_linkage = {}\n",
    "    # get the r2 scores for each number of clusters\n",
    "    for n_clust in range(min_clust, max_clust + 1):\n",
    "      model = AgglomerativeClustering(linkage = linkage, n_clusters = n_clust)\n",
    "      labels = model.fit_predict(df)\n",
    "      r2_linkage[n_clust] = get_r2(df, labels)\n",
    "\n",
    "    hc_r2_scores[linkage] = r2_linkage\n",
    "\n",
    "  return hc_r2_scores\n",
    "\n",
    "def choose_hc_linkage(df, min_clust, max_clust, description):\n",
    "  \"\"\"\n",
    "    Plots the r2 scores for each nr of clusters and each linkage method\n",
    "  \"\"\"\n",
    "  r2_scores = get_hierarquical_scores(df, min_clust, max_clust)\n",
    "\n",
    "  r2_df = pd.DataFrame(r2_scores)\n",
    "\n",
    "  sns.set()\n",
    "  fig = plt.figure(figsize = (10, 5))\n",
    "  sns.lineplot(data = r2_df, linewidth = 2.5, markers = ['o'] * 4)\n",
    "\n",
    "  fig.suptitle(f\"R2 plot for various linkages and nr of clusters for {description}\", fontsize = 15)\n",
    "  plt.gca().invert_xaxis()\n",
    "  plt.legend(title = 'Clustering Algorithm', title_fontsize = 12)\n",
    "  plt.xticks(range(1, max_clust + 1))\n",
    "  plt.xlabel(\"Number of clusters\", fontsize = 10)\n",
    "  plt.ylabel(\"R2\", fontsize = 10)\n",
    "\n",
    "  plt.show()\n",
    "\n",
    "def plot_dendogram(hclust, y_threshold, purpose, metric):\n",
    "  \"\"\"\n",
    "    Creates linkage matrix and then plots the dendrogram\n",
    "  \"\"\"\n",
    "  # Adapted from:\n",
    "  # https://scikit-learn.org/stable/auto_examples/cluster/plot_agglomerative_dendrogram.html#sphx-glr-auto-examples-cluster-plot-agglomerative-dendrogram-py\n",
    "  linkage = hclust.get_params()['linkage']\n",
    "  distance = hclust.get_params()['metric']\n",
    "  plt.figure(figsize = (10, 10))\n",
    "\n",
    "  # create the counts of samples under each node\n",
    "  counts = np.zeros(hclust.children_.shape[0])\n",
    "  n_samples = len(hclust.labels_)\n",
    "  for i, merge in enumerate(hclust.children_):\n",
    "      current_count = 0\n",
    "      for child_idx in merge:\n",
    "          if child_idx < n_samples:\n",
    "              current_count += 1  # leaf node\n",
    "          else:\n",
    "              current_count += counts[child_idx - n_samples]\n",
    "      counts[i] = current_count\n",
    "\n",
    "  linkage_matrix = np.column_stack([hclust.children_, hclust.distances_, counts]).astype(float)\n",
    "  \n",
    "  # Plot the corresponding dendrogram\n",
    "  dendrogram(linkage_matrix, color_threshold=y_threshold)\n",
    "  plt.title(purpose)\n",
    "  plt.xlabel(\"Number of points in node (or index of point if no parenthesis).\")\n",
    "  plt.ylabel(f\"{metric} distance\")\n",
    "  plt.show()\n",
    "\n",
    "# ----------------------- K-MEANS auxiliary functions ---------------------------------#\n",
    "def get_kmeans_inertia_silhouette(df, min_clust, max_clust):\n",
    "  \"\"\" \n",
    "    Returns values of inertia and silhouette for a range of number of clusters\n",
    "  \"\"\"\n",
    "  inertia = []\n",
    "  silhouette = []\n",
    "  for n_clus in range(min_clust, max_clust):  # iterate over desired ncluster range\n",
    "    kmclust = KMeans(n_clusters = n_clus, init = 'k-means++', n_init = 15, random_state = 1)\n",
    "    kmclust.fit(df)\n",
    "    inertia.append(kmclust.inertia_)  # save the inertia of the given cluster solution\n",
    "\n",
    "    # skip n_clus == 1 because it only makes sense to compute silhouette with at least 2 clusters\n",
    "    if n_clus == 1:\n",
    "      continue\n",
    "    labels = kmclust.predict(df)\n",
    "    silhouette.append(silhouette_score(df, labels)) # save silhouette of the given solution\n",
    "\n",
    "  return inertia, silhouette\n",
    "\n",
    "# ----------------------- K-MEANS and K-PROTOTYPES auxiliary functions ---------------------------------#\n",
    "\n",
    "def plot_scores(inertia, silhouette, description, clust_range):\n",
    "  f = plt.figure(figsize=(20,5))\n",
    "\n",
    "  ax1 = f.add_subplot(121)\n",
    "  ax1.plot(range(clust_range[0], clust_range[1]), inertia)\n",
    "  ax1.set_ylabel(\"Inertia = SSw\")\n",
    "  ax1.set_xlabel('Nr clusters')\n",
    "  ax1.set_title(f'Elbow method for {description}', fontsize = 20)\n",
    "\n",
    "  ax2 = f.add_subplot(122)\n",
    "  ax2.plot(range(clust_range[0] + 1, clust_range[1]), silhouette)\n",
    "  ax2.set_ylabel(\"Avg silhouette\")\n",
    "  ax2.set_xlabel('Nr clusters')\n",
    "  ax2.set_title(f'Avg silhouette for {description}', fontsize = 20)\n",
    "\n",
    "\n",
    "# ----------------- SOM auxiliary function ----------------- #\n",
    "\n",
    "def create_som(df, mapsize):\n",
    "  \"\"\"\n",
    "    Instantiates and trains a SOM\n",
    "  \"\"\"\n",
    "\n",
    "  np.random.seed(20)\n",
    "\n",
    "  sm = sompy.SOMFactory().build(\n",
    "      df.values, \n",
    "      mapsize=mapsize,\n",
    "      initialization='random', \n",
    "      neighborhood='gaussian',\n",
    "      training='batch',\n",
    "      lattice='hexa',\n",
    "      component_names=df.columns\n",
    "  )\n",
    "  sm.train(n_job=4, verbose = False, train_rough_len=100, train_finetune_len=100)\n",
    "\n",
    "  return sm\n",
    "\n",
    "def plot_umat(description, sm):\n",
    "  \"\"\"\n",
    "    U-Matrix plot: distances between neurons\n",
    "  \"\"\"\n",
    "  u = sompy.umatrix.UMatrixView(9, 9, f'{description} U-Matrix', show_axis=True, text_size=20, show_text=True)\n",
    "\n",
    "  UMAT = u.show(\n",
    "      sm, \n",
    "      distance=2,\n",
    "      row_normalized=False,\n",
    "      show_data=True, \n",
    "      contour=True,\n",
    "      blob=True\n",
    "  )\n",
    "\n",
    "def plot_hitmap(description, sm):\n",
    "  \"\"\"\n",
    "    Hit-Map plot: number of observations that consider a neuron its BMU\n",
    "  \"\"\"\n",
    "\n",
    "  vhts  = BmuHitsView(12,12,f\"{description} Hit Map\")\n",
    "  vhts.show(sm, anotate=True, onlyzeros=False, labelsize=12, cmap=\"GnBu\")\n",
    "  plt.show()\n",
    "\n",
    "def cluster_som_units(model, sm, description):\n",
    "  \"\"\"\n",
    "    Runs the clustering algorithm (model) on SOM units\n",
    "  \"\"\"\n",
    "  nodeclus_labels = model.fit_predict(sm.codebook.matrix)\n",
    "  sm.cluster_labels = nodeclus_labels\n",
    "\n",
    "  hits = HitMapView(12, 12, description, text_size = 15)\n",
    "  hits.show(sm, anotate=True, onlyzeros=False, labelsize=7, cmap=\"Pastel1\")\n",
    "  plt.show()\n",
    "  return sm\n",
    "\n",
    "def kmeans_on_som_plot(n_clusters, sm, description):\n",
    "  kmeans = KMeans(n_clusters=n_clusters, init='k-means++', n_init=20, random_state=1)\n",
    "\n",
    "  return cluster_som_units(kmeans, sm, description)\n",
    "\n",
    "def hc_on_som_plot(n_clusters, sm, description, linkage):\n",
    "  hc = AgglomerativeClustering(n_clusters=n_clusters, linkage = linkage)\n",
    "  \n",
    "  return cluster_som_units(hc, sm, description)\n",
    "\n",
    "def merge_bmu_labels(df, sm):\n",
    "  \"\"\"\n",
    "    Returns a match between the BMU label and the observations that have that BMU\n",
    "  \"\"\"\n",
    "\n",
    "  df_nodes = pd.DataFrame(sm.codebook.matrix, columns=df.columns)\n",
    "  df_nodes['label'] = sm.cluster_labels\n",
    "  \n",
    "  bmus_map = sm.find_bmu(df)[0]  # Get BMU for each observation in df\n",
    "\n",
    "  df_bmus = pd.DataFrame(\n",
    "      np.concatenate((df, np.expand_dims(bmus_map,1)), axis=1),\n",
    "      index=df.index, columns=np.append(df.columns,\"BMU\")\n",
    "  )\n",
    "  \n",
    "  # Labels for each observation based on BMU label\n",
    "  df_final = df_bmus.merge(df_nodes['label'], 'left', left_on=\"BMU\", right_index=True)\n",
    "\n",
    "  return df_final"
   ]
  },
  {
   "cell_type": "markdown",
   "metadata": {
    "id": "2OYMP2ck0svM"
   },
   "source": [
    "### Socio-Demographic <a class=\"anchor\" id=\"sociodemoClust\"></a>"
   ]
  },
  {
   "cell_type": "code",
   "execution_count": null,
   "metadata": {
    "id": "ZG1VP8i7DyjN"
   },
   "outputs": [],
   "source": [
    "sociodemo_results = pd.DataFrame(columns = ['silhouette']) # To store the silhouette scores of each algorithm"
   ]
  },
  {
   "cell_type": "code",
   "execution_count": null,
   "metadata": {
    "id": "BOr5Ti16TFB2"
   },
   "outputs": [],
   "source": [
    "df_demo = df_scaled[['BirthYear', 'EducDeg', 'Children']].copy()"
   ]
  },
  {
   "cell_type": "markdown",
   "metadata": {
    "id": "YC4zBsVb0yda"
   },
   "source": [
    "#### K-Prototypes <a class=\"anchor\" id=\"kprototypes\"></a>"
   ]
  },
  {
   "cell_type": "markdown",
   "metadata": {
    "id": "zuI1biKIUFbu"
   },
   "source": [
    "__1.__ Choose best K using the elbow method"
   ]
  },
  {
   "cell_type": "code",
   "execution_count": null,
   "metadata": {
    "colab": {
     "base_uri": "https://localhost:8080/"
    },
    "id": "cd3_vT76UIFf",
    "outputId": "9ac629a8-3f0f-43a5-c163-92caebf222b1"
   },
   "outputs": [],
   "source": [
    "cost = []\n",
    "for cluster in range(2, 10):\n",
    "  kprototype = KPrototypes(n_jobs = 4, n_clusters = cluster, random_state = 0)\n",
    "  kprototype.fit_predict(df_demo, categorical = [1, 2])\n",
    "  cost.append(kprototype.cost_)\n",
    "  print('Cluster initiation: {}'.format(cluster))"
   ]
  },
  {
   "cell_type": "code",
   "execution_count": null,
   "metadata": {
    "colab": {
     "base_uri": "https://localhost:8080/",
     "height": 823
    },
    "id": "VL99PlReZorp",
    "outputId": "d4638c61-fdf3-4e72-d81a-b2bebe19b386"
   },
   "outputs": [],
   "source": [
    "plt.figure(figsize = (15, 12))\n",
    "plt.plot(range(2, len(cost) + 2), cost)\n",
    "plt.suptitle('Cost curve of K-Prototypes', fontsize = 20)\n",
    "plt.xlabel('Number of clusters')\n",
    "plt.ylabel('Inertia')"
   ]
  },
  {
   "cell_type": "markdown",
   "metadata": {
    "id": "b8sgy6v-j3AC"
   },
   "source": [
    "Elbow is approximately at 6 clusters"
   ]
  },
  {
   "cell_type": "code",
   "execution_count": null,
   "metadata": {
    "colab": {
     "base_uri": "https://localhost:8080/"
    },
    "id": "W6d7V-UAZysc",
    "outputId": "1d3dd231-b232-4045-cf5f-4c7f215c8457"
   },
   "outputs": [],
   "source": [
    "kprototype = KPrototypes(n_jobs = 4, n_clusters = 6, random_state = 0)\n",
    "kprototype.fit_predict(df_demo, categorical = [1, 2])"
   ]
  },
  {
   "cell_type": "code",
   "execution_count": null,
   "metadata": {
    "id": "0vEWtaUraR7i"
   },
   "outputs": [],
   "source": [
    "kprototype_scores = {}\n",
    "labels = kprototype.labels_\n",
    "from sklearn.metrics.pairwise import euclidean_distances\n",
    "\n",
    "def kprototype_distance(df, numerical_vars, categorical_vars):\n",
    "  \n",
    "  # euclidean distance for numerical feature\n",
    "  def pairwise_distance(x1, x2):\n",
    "    return np.abs(x1 - x2)\n",
    "\n",
    "  # apply the function to the observations series to calculate the pairwise distances\n",
    "  dist = df[numerical_vars].apply(lambda x: pairwise_distance(x, df[numerical_vars]))\n",
    "\n",
    "  # pairwise hamming distance between all rows in the categorical features\n",
    "  dist = dist + squareform(pdist(df[categorical_vars], 'hamming'))\n",
    "\n",
    "  return dist\n",
    "\n",
    "dist_matrix = kprototype_distance(df_demo, 'BirthYear', ['EducDeg', 'Children'])"
   ]
  },
  {
   "cell_type": "code",
   "execution_count": null,
   "metadata": {
    "id": "MC3_xARkH8pp"
   },
   "outputs": [],
   "source": [
    "kprototype_scores['k-prototypes'] = [silhouette_score(dist_matrix, labels)]\n",
    "kprototype_scores_df = pd.DataFrame(kprototype_scores, index=['silhouette']).T\n",
    "kprototype_scores_df.dropna(axis=1, how='all', inplace=True)\n",
    "sociodemo_results = pd.concat([sociodemo_results, kprototype_scores_df])"
   ]
  },
  {
   "cell_type": "markdown",
   "metadata": {
    "id": "RMag5oin00j1"
   },
   "source": [
    "#### Hierarchical Clustering <a class=\"anchor\" id=\"hcSociodemo\"></a>\n",
    "\n",
    "We can not use ward linkage with gower distance, so we will only search among the"
   ]
  },
  {
   "cell_type": "markdown",
   "metadata": {
    "id": "ikRwEkUxmTfI"
   },
   "source": [
    "__1.__ Calculate distance matrix using gower distance"
   ]
  },
  {
   "cell_type": "code",
   "execution_count": null,
   "metadata": {
    "id": "wRFYyF1Erd0-"
   },
   "outputs": [],
   "source": [
    "distance_matrix = gower.gower_matrix(df_demo, cat_features = [False, True, True])"
   ]
  },
  {
   "cell_type": "markdown",
   "metadata": {
    "id": "8zpP4uCNmZXl"
   },
   "source": [
    "__2.__ Choose best linkage by plotting silhouette scores across a number of clusters\n"
   ]
  },
  {
   "cell_type": "code",
   "execution_count": null,
   "metadata": {
    "id": "tU2s7v-isSCn"
   },
   "outputs": [],
   "source": [
    "silhouette_scores = {}\n",
    "\n",
    "# get silhouette scores for each model\n",
    "for linkage in ['single', 'complete', 'average']:\n",
    "  silhouette_linkage = {}\n",
    "  # get the silhouette scores for each number of clusters\n",
    "  for n_clust in range(2, 10):\n",
    "    model = AgglomerativeClustering(linkage = linkage, n_clusters = n_clust, metric='precomputed')\n",
    "    labels = model.fit_predict(distance_matrix)\n",
    "    silhouette_linkage[n_clust] = silhouette_score(distance_matrix, labels)\n",
    "\n",
    "  silhouette_scores[linkage] = silhouette_linkage\n",
    "\n",
    "silhouette_df = pd.DataFrame(silhouette_scores)"
   ]
  },
  {
   "cell_type": "code",
   "execution_count": null,
   "metadata": {
    "colab": {
     "base_uri": "https://localhost:8080/",
     "height": 372
    },
    "id": "tgkiHujXu5tz",
    "outputId": "07d1787d-e690-42af-d749-a4ee967a69a7"
   },
   "outputs": [],
   "source": [
    "sns.set()\n",
    "fig = plt.figure(figsize = (10, 5))\n",
    "sns.lineplot(data = silhouette_df, linewidth = 1.5, markers = ['o'] * 3)\n",
    "\n",
    "fig.suptitle(f\"Silhouette plot for various linkage methods and number of clusters for Socio-Demographic perspective \", fontsize = 15)\n",
    "plt.gca().invert_xaxis()\n",
    "plt.legend(title = 'Clustering Algorithm', title_fontsize = 12)\n",
    "plt.xticks(range(2, 10))\n",
    "plt.xlabel(\"Number of clusters\", fontsize = 10)\n",
    "plt.ylabel(\"Silhouette\", fontsize = 10)\n",
    "\n",
    "plt.show()"
   ]
  },
  {
   "cell_type": "markdown",
   "metadata": {
    "id": "61iUx6MImgSc"
   },
   "source": [
    "___3.___ Choose best number of clusters with a dendogram\n"
   ]
  },
  {
   "cell_type": "code",
   "execution_count": null,
   "metadata": {
    "colab": {
     "base_uri": "https://localhost:8080/",
     "height": 388
    },
    "id": "wl1Vw4Zh4hjy",
    "outputId": "2e02a93d-f6f0-4cb1-b3bc-359115d97017"
   },
   "outputs": [],
   "source": [
    "clst = AgglomerativeClustering(linkage='average', distance_threshold=0, n_clusters=None, metric='precomputed')\n",
    "clst.fit_predict(distance_matrix)\n",
    "plot_dendogram(clst, 0.45, 'clustering following a Socio-Demographic perspective', 'precomputed')"
   ]
  },
  {
   "cell_type": "code",
   "execution_count": null,
   "metadata": {
    "id": "qu986X9v5KDf"
   },
   "outputs": [],
   "source": [
    "hc_scores = {}\n",
    "\n",
    "clst = AgglomerativeClustering(linkage='average', n_clusters=3, metric='precomputed')\n",
    "labels = clst.fit_predict(distance_matrix)\n",
    "hc_scores['hc'] = [silhouette_score(distance_matrix, labels)]"
   ]
  },
  {
   "cell_type": "code",
   "execution_count": null,
   "metadata": {
    "colab": {
     "base_uri": "https://localhost:8080/",
     "height": 112
    },
    "id": "griVPEASE6ek",
    "outputId": "35887554-7cad-485a-d0ce-bfdc7e91dfb7"
   },
   "outputs": [],
   "source": [
    "hc_scores_df = pd.DataFrame(hc_scores, index=['silhouette']).T\n",
    "sociodemo_results = pd.concat([sociodemo_results, hc_scores_df])\n",
    "sociodemo_results"
   ]
  },
  {
   "cell_type": "markdown",
   "metadata": {
    "id": "80y8mnGUAL3I"
   },
   "source": [
    "#### K-Medoids (PAM) <a class=\"anchor\" id=\"kmedoids\"></a>"
   ]
  },
  {
   "cell_type": "markdown",
   "metadata": {
    "id": "Xk3D3S5-ogz5"
   },
   "source": [
    "__1.__ Choose best number of clusters using elbow and silhouette\n"
   ]
  },
  {
   "cell_type": "code",
   "execution_count": null,
   "metadata": {
    "colab": {
     "base_uri": "https://localhost:8080/",
     "height": 360
    },
    "id": "79htpqqow0l_",
    "outputId": "0a601980-5fc1-4054-b964-b939729579ed"
   },
   "outputs": [],
   "source": [
    "inertia = []\n",
    "silhouette = []\n",
    "for n_clus in range(1, 10):\n",
    "  km = kmedoids.KMedoids(n_clus, method='fasterpam', random_state = 0).fit(distance_matrix)\n",
    "  inertia.append(km.inertia_)\n",
    "\n",
    "  # we can not calculate the silhouette for a solution with only one cluster, so we skip it\n",
    "  if n_clus == 1:\n",
    "    continue\n",
    "\n",
    "  silhouette.append(silhouette_score(distance_matrix, km.labels_))\n",
    "\n",
    "plot_scores(inertia, silhouette, 'K-Medoids (Socio-Demographic)', (1, 10))"
   ]
  },
  {
   "cell_type": "code",
   "execution_count": null,
   "metadata": {
    "id": "i1GLHjzD1UtF"
   },
   "outputs": [],
   "source": [
    "kmedoids_scores = {}\n",
    "\n",
    "km = kmedoids.KMedoids(5, method='fasterpam').fit(distance_matrix)\n",
    "labels = km.labels_\n",
    "kmedoids_scores['k-medoids'] = [silhouette_score(distance_matrix, labels)]"
   ]
  },
  {
   "cell_type": "code",
   "execution_count": null,
   "metadata": {
    "colab": {
     "base_uri": "https://localhost:8080/",
     "height": 143
    },
    "id": "OWnL4fWAJ9gB",
    "outputId": "18905afa-768a-4735-d58c-846d177e23f7"
   },
   "outputs": [],
   "source": [
    "kmedoids_scores_df = pd.DataFrame(kmedoids_scores, index=['silhouette']).T\n",
    "sociodemo_results = pd.concat([sociodemo_results, kmedoids_scores_df])\n",
    "sociodemo_results"
   ]
  },
  {
   "cell_type": "markdown",
   "metadata": {
    "id": "091MEOvP0wC7"
   },
   "source": [
    "### Value <a class=\"anchor\" id=\"valueClust\"></a>"
   ]
  },
  {
   "cell_type": "code",
   "execution_count": null,
   "metadata": {
    "id": "G9iJm38VKWlZ"
   },
   "outputs": [],
   "source": [
    "value_results = pd.DataFrame(columns = ['r2', 'silhouette'])"
   ]
  },
  {
   "cell_type": "code",
   "execution_count": null,
   "metadata": {
    "id": "DUVSdeWI6rQc"
   },
   "outputs": [],
   "source": [
    "df_value = df_scaled[['FirstPolYear', 'MonthSal', 'total_premiums']].copy()"
   ]
  },
  {
   "cell_type": "markdown",
   "metadata": {
    "id": "-aVAPvVjUnl5"
   },
   "source": [
    "#### Cell-based segments <a class=\"anchor\" id=\"cellbased\"></a>"
   ]
  },
  {
   "cell_type": "markdown",
   "metadata": {
    "id": "vhaIC7I4Uyo7"
   },
   "source": [
    "Using *ClaimsRate* and *total_premiums*\n",
    "\n",
    "Costumers divided into 4 segments:\n",
    "* Profitable: Low (q1 and q2) ClaimsRate and High (q3 and q4) total_premiums\n",
    "* Risk-Averse: Low (q1 and q2) ClaimsRate and Low (q1 and q2) total_premiums\n",
    "* Risk-Loving: High (q3 and q4)  ClaimsRate and High (q3 and q4)  total_premiums \n",
    "* Harmful: High (q3 and q4) ClaimsRate and Low (q1 and q2) total_premiums\n",
    "\n",
    "\n"
   ]
  },
  {
   "cell_type": "code",
   "execution_count": null,
   "metadata": {
    "colab": {
     "base_uri": "https://localhost:8080/",
     "height": 676
    },
    "id": "4tM9Ekf1UqH2",
    "outputId": "b24d0002-e078-4a55-81b2-e95b5763124a"
   },
   "outputs": [],
   "source": [
    "df_quartiles = df_scaled.copy()\n",
    "quartiles = ['q1', 'q2', 'q3', 'q4']\n",
    "# partition the customers into ClaimsRate quartils\n",
    "df_quartiles['ClaimsRate_quartil'] = pd.qcut(df_scaled['ClaimsRate'], 4, quartiles)\n",
    "# partition the customers into total_premiums quartils\n",
    "df_quartiles['total_premiums_quartil'] = pd.qcut(df_scaled['total_premiums'], 4, quartiles)\n",
    "\n",
    "quartil_matrix = pd.crosstab(df_quartiles['ClaimsRate_quartil'], df_quartiles['total_premiums_quartil'])\n",
    "\n",
    "sns.set()\n",
    "plt.figure(figsize=(10, 10))\n",
    "plt.suptitle('Contingency Table', fontsize = 15, y = 0.9)\n",
    "plt.xlabel('total_premiums Quartiles')\n",
    "plt.ylabel('ClaimsRate Quartiles')\n",
    "sns.heatmap(quartil_matrix, annot = True, fmt='.3g', square = True)"
   ]
  },
  {
   "cell_type": "code",
   "execution_count": null,
   "metadata": {
    "colab": {
     "base_uri": "https://localhost:8080/",
     "height": 519
    },
    "id": "77Qehrz2aQz7",
    "outputId": "e4214e9c-b3ba-4090-830b-ec382385249f"
   },
   "outputs": [],
   "source": [
    "df_quartiles"
   ]
  },
  {
   "cell_type": "markdown",
   "metadata": {
    "id": "HYZU7Ya41AP8"
   },
   "source": [
    "#### Hierarchical Clustering <a class=\"anchor\" id=\"hcValue\"></a>"
   ]
  },
  {
   "cell_type": "markdown",
   "metadata": {
    "id": "JW2W6B5-E1zl"
   },
   "source": [
    "__1.__ For each linkage, plot the r2 scores across a number of clusters to determine the best one\n"
   ]
  },
  {
   "cell_type": "code",
   "execution_count": null,
   "metadata": {
    "colab": {
     "base_uri": "https://localhost:8080/",
     "height": 372
    },
    "id": "FHu2lPJrETfN",
    "outputId": "4863b8ef-f2b9-48be-ce4a-945022e67281"
   },
   "outputs": [],
   "source": [
    "choose_hc_linkage(df_value, 1, 5, 'clustering follwoing a Value perspective')"
   ]
  },
  {
   "cell_type": "markdown",
   "metadata": {
    "id": "VWXCUptiIZQw"
   },
   "source": [
    "The best linkage is *ward*"
   ]
  },
  {
   "cell_type": "markdown",
   "metadata": {
    "id": "DGvAoPuoFW4D"
   },
   "source": [
    "__2.__ Choose the ideal number of clusters using the dendogram"
   ]
  },
  {
   "cell_type": "code",
   "execution_count": null,
   "metadata": {
    "colab": {
     "base_uri": "https://localhost:8080/",
     "height": 385
    },
    "id": "m2Kqk2vGyMlx",
    "outputId": "8cb38f49-ff13-4108-bb5d-05a8ba36e60d"
   },
   "outputs": [],
   "source": [
    "clst = AgglomerativeClustering(linkage='ward', distance_threshold=0, n_clusters=None)\n",
    "clst.fit_predict(df_value)\n",
    "plot_dendogram(clst, 70, 'clustering following a Value perspective', 'precomputed')"
   ]
  },
  {
   "cell_type": "code",
   "execution_count": null,
   "metadata": {
    "id": "pNKVXEXqGMyx"
   },
   "outputs": [],
   "source": [
    "hc_scores = {}\n",
    "\n",
    "clst = AgglomerativeClustering(linkage='ward', n_clusters = 4)\n",
    "labels = clst.fit_predict(df_value)\n",
    "hc_scores['hc'] = [get_r2(df_value, labels), silhouette_score(df_value, labels)]"
   ]
  },
  {
   "cell_type": "code",
   "execution_count": null,
   "metadata": {
    "colab": {
     "base_uri": "https://localhost:8080/",
     "height": 81
    },
    "id": "dQF58Wf8R5ki",
    "outputId": "0bbde468-bdd0-4e80-ab4c-d1176189cddc"
   },
   "outputs": [],
   "source": [
    "hc_scores_df = pd.DataFrame(hc_scores, index = ['r2', 'silhouette']).T\n",
    "hc_scores_df = hc_scores_df.dropna(axis=1, how='all')\n",
    "value_results = pd.concat([value_results, hc_scores_df])\n",
    "value_results"
   ]
  },
  {
   "cell_type": "markdown",
   "metadata": {
    "id": "j-F6XjRW0-Jb"
   },
   "source": [
    "#### K-Means <a class=\"anchor\" id=\"kmeansValue\"></a>"
   ]
  },
  {
   "cell_type": "markdown",
   "metadata": {
    "id": "nO8k1Qrhx8r4"
   },
   "source": [
    "__1./2.__ Elbow method and Silhouette score"
   ]
  },
  {
   "cell_type": "code",
   "execution_count": null,
   "metadata": {
    "colab": {
     "base_uri": "https://localhost:8080/",
     "height": 360
    },
    "id": "p9PKu4Srhgbw",
    "outputId": "62bbd6bb-1553-4c71-c634-9346a0c683ce"
   },
   "outputs": [],
   "source": [
    "inertia, silhouette = get_kmeans_inertia_silhouette(df_value, min_clust = 1, max_clust = 10)\n",
    "plot_scores(inertia, silhouette, 'K-Means following a value perspective', (1, 10))"
   ]
  },
  {
   "cell_type": "markdown",
   "metadata": {
    "id": "4poz5vgPyNn4"
   },
   "source": [
    "__3.__ K-Means with large nr of cluster followed by HC"
   ]
  },
  {
   "cell_type": "code",
   "execution_count": null,
   "metadata": {
    "colab": {
     "base_uri": "https://localhost:8080/",
     "height": 372
    },
    "id": "Lz2KJnt30uED",
    "outputId": "bf3292bd-6b9f-40d4-810f-016d927ef008"
   },
   "outputs": [],
   "source": [
    "# perform kmeans with a lot of clusters\n",
    "kmclust = KMeans(n_clusters = 100, init = 'k-means++', n_init = 15, random_state = 1)\n",
    "kmclust.fit(df_value)\n",
    "\n",
    "# new 'observations' are the clusters centroids\n",
    "centroids = pd.DataFrame(kmclust.cluster_centers_)\n",
    "\n",
    "# choose best linkage to cluster the centroids\n",
    "choose_hc_linkage(centroids, 1, 7, 'a Value perspective (HC on top of K-Means')"
   ]
  },
  {
   "cell_type": "code",
   "execution_count": null,
   "metadata": {
    "colab": {
     "base_uri": "https://localhost:8080/",
     "height": 379
    },
    "id": "4WoQYuVS0OMT",
    "outputId": "a1bb3ac8-0a50-4ab6-c16c-83a7e7be2465"
   },
   "outputs": [],
   "source": [
    "# choose the best nr of clusters given the best linkage\n",
    "clst = AgglomerativeClustering(linkage='ward', distance_threshold=0, n_clusters=None)\n",
    "clst.fit_predict(centroids)\n",
    "\n",
    "plot_dendogram(clst, 8, 'deciding the nr of clusters of K-Means following a Value perspective', 'precomputed')"
   ]
  },
  {
   "cell_type": "code",
   "execution_count": null,
   "metadata": {
    "id": "DnZVsd7D4uQP"
   },
   "outputs": [],
   "source": [
    "kmeans_scores = {}\n",
    "\n",
    "kmclust = KMeans(n_clusters = 4, init = 'k-means++', n_init = 15, random_state = 1)\n",
    "labels = kmclust.fit_predict(df_value)\n",
    "kmeans_scores['kmeans'] = [get_r2(df_value, labels), silhouette_score(df_value, labels)]"
   ]
  },
  {
   "cell_type": "code",
   "execution_count": null,
   "metadata": {
    "colab": {
     "base_uri": "https://localhost:8080/",
     "height": 112
    },
    "id": "mNJyXsW2Kbj8",
    "outputId": "a06b02b1-facf-4366-9962-9f0fba8a8bc0"
   },
   "outputs": [],
   "source": [
    "value_results = pd.concat([value_results, pd.DataFrame(kmeans_scores, index=['r2', 'silhouette']).T])\n",
    "value_results"
   ]
  },
  {
   "cell_type": "markdown",
   "metadata": {
    "id": "N4_BUkyB1Dnp"
   },
   "source": [
    "#### Mean-shift <a class=\"anchor\" id=\"meanshiftValue\"></a>"
   ]
  },
  {
   "cell_type": "code",
   "execution_count": null,
   "metadata": {
    "colab": {
     "base_uri": "https://localhost:8080/"
    },
    "id": "1VZJjfniv7V9",
    "outputId": "9740d940-2ccb-417c-84ea-85b49dade960"
   },
   "outputs": [],
   "source": [
    "mean_shift_scores = {}\n",
    "\n",
    "ms = MeanShift(bin_seeding=True, n_jobs=4)\n",
    "labels = ms.fit_predict(df_value)\n",
    "if len(np.unique(labels)) == 1:\n",
    "  print(\"Only one cluster found\")\n",
    "else:\n",
    "  mean_shift_scores['df_value'] = [get_r2(df_value, labels), silhouette_score(df_value, labels)]"
   ]
  },
  {
   "cell_type": "markdown",
   "metadata": {
    "id": "VRLbraQS1CBg"
   },
   "source": [
    "#### DBScan <a class=\"anchor\" id=\"dbscanValue\"></a>"
   ]
  },
  {
   "cell_type": "markdown",
   "metadata": {
    "id": "x-TcR53S3hAY"
   },
   "source": [
    "__1./2.__ Define *min_samples* and eps"
   ]
  },
  {
   "cell_type": "code",
   "execution_count": null,
   "metadata": {
    "colab": {
     "base_uri": "https://localhost:8080/",
     "height": 627
    },
    "id": "i56cIjgt35uI",
    "outputId": "4110ef85-216e-4cdf-b83d-a8b4d85ddda8"
   },
   "outputs": [],
   "source": [
    "minPts = 2 * len(df_value.columns)\n",
    "plot_nearest_neighbors_dist(df_value, minPts)"
   ]
  },
  {
   "cell_type": "code",
   "execution_count": null,
   "metadata": {
    "colab": {
     "base_uri": "https://localhost:8080/"
    },
    "id": "l826LLNQyrGe",
    "outputId": "28847485-5d7f-4be2-a737-82b1773d6a50"
   },
   "outputs": [],
   "source": [
    "dbscan_scores = {}\n",
    "dbscan = DBSCAN(eps = 0.35, min_samples=minPts, n_jobs=4)\n",
    "labels = dbscan.fit_predict(df_value)\n",
    "print(f\"nr of clusters found: {len(np.unique(labels))}\")\n",
    "dbscan_scores['dbscan'] = [get_r2(df_value, labels), silhouette_score(df_value, labels)]"
   ]
  },
  {
   "cell_type": "code",
   "execution_count": null,
   "metadata": {
    "colab": {
     "base_uri": "https://localhost:8080/",
     "height": 143
    },
    "id": "HJtnfVBnLFGL",
    "outputId": "a32fe503-75cb-429d-d43a-587fdc5b2d3e"
   },
   "outputs": [],
   "source": [
    "value_results = pd.concat([value_results, pd.DataFrame(dbscan_scores, index=['r2', 'silhouette']).T])\n",
    "value_results"
   ]
  },
  {
   "cell_type": "markdown",
   "metadata": {
    "id": "wh-6re0rF0Ok"
   },
   "source": [
    "#### SOM <a class=\"anchor\" id=\"somValue\"></a>"
   ]
  },
  {
   "cell_type": "markdown",
   "metadata": {
    "id": "wJ7poy4wqtpc"
   },
   "source": [
    "__1.__ Train SOM"
   ]
  },
  {
   "cell_type": "code",
   "execution_count": null,
   "metadata": {
    "id": "i5jpZFHYqvGA"
   },
   "outputs": [],
   "source": [
    "sm = create_som(df_value, [15, 15])"
   ]
  },
  {
   "cell_type": "markdown",
   "metadata": {
    "id": "V7O3RdAWfYMb"
   },
   "source": [
    "__2.__ Plot U-Matrix"
   ]
  },
  {
   "cell_type": "markdown",
   "metadata": {
    "id": "reOyqmO5fYMf"
   },
   "source": [
    "__3.__ Plot Hitmap"
   ]
  },
  {
   "cell_type": "code",
   "execution_count": null,
   "metadata": {
    "colab": {
     "base_uri": "https://localhost:8080/",
     "height": 699
    },
    "id": "KCy9PBUufYMh",
    "outputId": "e1f02374-b892-4906-f240-bcac31d6b6b7"
   },
   "outputs": [],
   "source": [
    "plot_hitmap('Value segmentation -', sm)"
   ]
  },
  {
   "cell_type": "markdown",
   "metadata": {
    "id": "a-Tn9eny1NaE"
   },
   "source": [
    "#### SOM + Hierarchical Clustering <a class=\"anchor\" id=\"somhcValue\"></a>"
   ]
  },
  {
   "cell_type": "markdown",
   "metadata": {
    "id": "pDHBXgEhHFkR"
   },
   "source": [
    "__1.__ Choose best linkage by plotting r2 scores for clustering the SOM units across a number of clusters\n"
   ]
  },
  {
   "cell_type": "code",
   "execution_count": null,
   "metadata": {
    "colab": {
     "base_uri": "https://localhost:8080/",
     "height": 372
    },
    "id": "fTKLQRfk9F5V",
    "outputId": "7e90c0f4-4002-46a8-e951-0a88557ee855"
   },
   "outputs": [],
   "source": [
    "units = pd.DataFrame(sm.codebook.matrix)\n",
    "units.name = 'SOM_value'\n",
    "choose_hc_linkage(units, 1, 5, 'deciding the linkage of HC on top of SOM following a Value perspective')"
   ]
  },
  {
   "cell_type": "markdown",
   "metadata": {
    "id": "r2cPMnxOIpv0"
   },
   "source": [
    "__2.__ Choose best number of cluster using the dendogram\n"
   ]
  },
  {
   "cell_type": "code",
   "execution_count": null,
   "metadata": {
    "colab": {
     "base_uri": "https://localhost:8080/",
     "height": 380
    },
    "id": "iBURorR0Item",
    "outputId": "5112b69e-a83e-4673-e8bc-041be12ef916"
   },
   "outputs": [],
   "source": [
    "clst = AgglomerativeClustering(linkage='ward', distance_threshold=0, n_clusters=None)\n",
    "units = pd.DataFrame(sm.codebook.matrix)\n",
    "clst.fit_predict(units)\n",
    "plot_dendogram(clst, 9, 'deciding the nr of clusters of HC on top of SOM following a Value perspective', 'precomputed')"
   ]
  },
  {
   "cell_type": "markdown",
   "metadata": {
    "id": "tZrM3PL-_shI"
   },
   "source": [
    "__3.__ HC on SOM units"
   ]
  },
  {
   "cell_type": "code",
   "execution_count": null,
   "metadata": {
    "colab": {
     "base_uri": "https://localhost:8080/",
     "height": 699
    },
    "id": "G0SocFiz_wdv",
    "outputId": "e6f9ec09-3b64-4da5-984d-c49fe6964be9"
   },
   "outputs": [],
   "source": [
    "hc_som = hc_on_som_plot(4, sm, 'Hierarchical clustering on top of SOM following a Value perspective', 'ward')"
   ]
  },
  {
   "cell_type": "markdown",
   "metadata": {
    "id": "6zc0eFUVAMra"
   },
   "source": [
    "__4.__ Merge BMU labels with observations"
   ]
  },
  {
   "cell_type": "code",
   "execution_count": null,
   "metadata": {
    "colab": {
     "base_uri": "https://localhost:8080/",
     "height": 455
    },
    "id": "YVq-RA5vAOjf",
    "outputId": "48345462-1bab-498c-cb51-76881d0dc3ed"
   },
   "outputs": [],
   "source": [
    "final_df = merge_bmu_labels(df_value, hc_som)\n",
    "final_df"
   ]
  },
  {
   "cell_type": "code",
   "execution_count": null,
   "metadata": {
    "id": "Rg2gCYvyKJzo"
   },
   "outputs": [],
   "source": [
    "som_hc_scores = {}\n",
    "\n",
    "labels = final_df['label']\n",
    "som_hc_scores['som_hc'] = [get_r2(df_value, labels), silhouette_score(df_value, labels)]"
   ]
  },
  {
   "cell_type": "code",
   "execution_count": null,
   "metadata": {
    "colab": {
     "base_uri": "https://localhost:8080/",
     "height": 175
    },
    "id": "EFWhzqG0MD45",
    "outputId": "bc003a73-9f55-4144-f852-1fcb48bd397b"
   },
   "outputs": [],
   "source": [
    "value_results = pd.concat([value_results, pd.DataFrame(som_hc_scores, index=['r2', 'silhouette']).T])\n",
    "value_results"
   ]
  },
  {
   "cell_type": "markdown",
   "metadata": {
    "id": "mqvhwqLV1Oa_"
   },
   "source": [
    "#### SOM + K-Means <a class=\"anchor\" id=\"somkmeansValue\"></a>"
   ]
  },
  {
   "cell_type": "markdown",
   "metadata": {
    "id": "GgO3cUDbfYMi"
   },
   "source": [
    "__1./2.__ Elbow method and Silhouette score"
   ]
  },
  {
   "cell_type": "code",
   "execution_count": null,
   "metadata": {
    "colab": {
     "base_uri": "https://localhost:8080/",
     "height": 360
    },
    "id": "_R243PUjfYMj",
    "outputId": "fc417626-8d5f-4a8b-91f9-0265674ab700"
   },
   "outputs": [],
   "source": [
    "weights = sm.codebook.matrix\n",
    "\n",
    "inertia, silhouette = get_kmeans_inertia_silhouette(weights, min_clust = 1, max_clust = 10)\n",
    "plot_scores(inertia, silhouette, 'K-Means + SOM following a Value perspective', (1, 10))"
   ]
  },
  {
   "cell_type": "markdown",
   "metadata": {
    "id": "r96dEjlafYMm"
   },
   "source": [
    "__3.__ K-Means on SOM units\n"
   ]
  },
  {
   "cell_type": "code",
   "execution_count": null,
   "metadata": {
    "colab": {
     "base_uri": "https://localhost:8080/",
     "height": 699
    },
    "id": "fP43yAPYfYMm",
    "outputId": "5202d2c6-1270-48d4-c893-8d9169e2f820"
   },
   "outputs": [],
   "source": [
    "kmeans_som = kmeans_on_som_plot(4, sm, 'K-Means on top of SOM following a Value perspective')"
   ]
  },
  {
   "cell_type": "markdown",
   "metadata": {
    "id": "FQbwKx-CfYMn"
   },
   "source": [
    "__4.__ Merge BMU labels with observations"
   ]
  },
  {
   "cell_type": "code",
   "execution_count": null,
   "metadata": {
    "id": "XSCmcSpPfYMo"
   },
   "outputs": [],
   "source": [
    "final_df = merge_bmu_labels(df_value, kmeans_som)"
   ]
  },
  {
   "cell_type": "code",
   "execution_count": null,
   "metadata": {
    "id": "Sl3uDDgOfYMq"
   },
   "outputs": [],
   "source": [
    "kmeans_som_scores = {}\n",
    "\n",
    "labels = final_df['label']\n",
    "kmeans_som_scores['som_kmeans'] = [get_r2(df_value, labels), silhouette_score(df_value, labels)]"
   ]
  },
  {
   "cell_type": "code",
   "execution_count": null,
   "metadata": {
    "colab": {
     "base_uri": "https://localhost:8080/",
     "height": 206
    },
    "id": "ND7egkexM6Hc",
    "outputId": "3782b331-2ebe-4442-9138-bd805c3210ee"
   },
   "outputs": [],
   "source": [
    "value_results = pd.concat([value_results, pd.DataFrame(kmeans_som_scores, index=['r2', 'silhouette']).T])\n",
    "value_results"
   ]
  },
  {
   "cell_type": "markdown",
   "metadata": {
    "id": "W1vqVvPi0w5o"
   },
   "source": [
    "### Product <a class=\"anchor\" id=\"productClust\"></a>"
   ]
  },
  {
   "cell_type": "code",
   "execution_count": null,
   "metadata": {
    "id": "dhmC13BnVYMv"
   },
   "outputs": [],
   "source": [
    "product_results = pd.DataFrame(columns = ['r2', 'silhouette'])"
   ]
  },
  {
   "cell_type": "code",
   "execution_count": null,
   "metadata": {
    "id": "8YP_8fqpK36T"
   },
   "outputs": [],
   "source": [
    "df_product_1 = df_scaled[['PremMotor', 'PremHousehold', 'PremHealth', 'PremLife', 'PremWork']].copy()\n",
    "df_product_1.name = 'df_product_premiums'\n",
    "\n",
    "df_product_2 = df_scaled[[\"MotorPercent\", \"HouseholdPercent\", \"HealthPercent\",\"LifePercent\",\"WorkPercent\"]].copy()\n",
    "df_product_2.name = 'df_product_percent'"
   ]
  },
  {
   "cell_type": "code",
   "execution_count": null,
   "metadata": {
    "id": "WanYHfggLcGn"
   },
   "outputs": [],
   "source": [
    "df_product = [df_product_1, df_product_2]"
   ]
  },
  {
   "cell_type": "markdown",
   "metadata": {
    "id": "9-zRD6q3r-_P"
   },
   "source": [
    "#### Hierarchical Clustering <a class=\"anchor\" id=\"hcProduct\"></a>"
   ]
  },
  {
   "cell_type": "markdown",
   "metadata": {
    "id": "xV_OS9ESr-_T"
   },
   "source": [
    "__1.__ For each linkage, plot the r2 scores across a number of clusters to determine the best one\n"
   ]
  },
  {
   "cell_type": "code",
   "execution_count": null,
   "metadata": {
    "colab": {
     "base_uri": "https://localhost:8080/",
     "height": 727
    },
    "id": "36NGTrDvLkDD",
    "outputId": "e46657a2-9002-472e-dd1e-57b558828771"
   },
   "outputs": [],
   "source": [
    "sets = ['total premiums', 'premiums percentage']\n",
    "\n",
    "for i, df in enumerate(df_product):\n",
    "  choose_hc_linkage(df, 1, 5, f'Product perspective ({sets[i]})')"
   ]
  },
  {
   "cell_type": "markdown",
   "metadata": {
    "id": "t6-tgCBWLkDH"
   },
   "source": [
    "The best linkage is *ward* for all datasets"
   ]
  },
  {
   "cell_type": "markdown",
   "metadata": {
    "id": "NnGUUY-NLkDJ"
   },
   "source": [
    "__2.__ Choose the ideal number of clusters using the dendogram"
   ]
  },
  {
   "cell_type": "markdown",
   "metadata": {
    "id": "gbCDTZjZLkDM"
   },
   "source": [
    "Total premiums"
   ]
  },
  {
   "cell_type": "code",
   "execution_count": null,
   "metadata": {
    "colab": {
     "base_uri": "https://localhost:8080/",
     "height": 388
    },
    "id": "fN0XJCS7LkDO",
    "outputId": "c7c76029-d7fe-4471-caaf-6f04e1027867"
   },
   "outputs": [],
   "source": [
    "clst = AgglomerativeClustering(linkage='ward', distance_threshold=0, n_clusters=None)\n",
    "clst.fit_predict(df_product_1)\n",
    "plot_dendogram(clst, 80, 'clustering following a Product perspective (total premiums)', 'precomputed')"
   ]
  },
  {
   "cell_type": "markdown",
   "metadata": {
    "id": "JL708TI_LkDQ"
   },
   "source": [
    "Premiums Percentage"
   ]
  },
  {
   "cell_type": "code",
   "execution_count": null,
   "metadata": {
    "colab": {
     "base_uri": "https://localhost:8080/",
     "height": 385
    },
    "id": "82XuO8hhLkDT",
    "outputId": "353336b1-d108-4dfb-f00f-59d7a52eddf8"
   },
   "outputs": [],
   "source": [
    "clst = AgglomerativeClustering(linkage='ward', distance_threshold=0, n_clusters=None)\n",
    "clst.fit_predict(df_product_2)\n",
    "plot_dendogram(clst, 80, 'clustering following a Product perspective (premiums percentage)', 'precomputed')"
   ]
  },
  {
   "cell_type": "code",
   "execution_count": null,
   "metadata": {
    "id": "sGTAy4KoLkDe"
   },
   "outputs": [],
   "source": [
    "nr_clusters = [4, 3]\n",
    "hc_scores = {}\n",
    "\n",
    "for i, df in enumerate(df_product):\n",
    "  clst = AgglomerativeClustering(linkage='ward', n_clusters=nr_clusters[i])\n",
    "  labels = clst.fit_predict(df)\n",
    "  hc_scores[df.name + 'hc'] = [get_r2(df, labels), silhouette_score(df, labels)]"
   ]
  },
  {
   "cell_type": "code",
   "execution_count": null,
   "metadata": {
    "colab": {
     "base_uri": "https://localhost:8080/",
     "height": 112
    },
    "id": "IBHQKSaISAQ3",
    "outputId": "603c0b6f-a2d9-43be-8345-c9ec3547b8a9"
   },
   "outputs": [],
   "source": [
    "product_results = pd.concat([product_results, pd.DataFrame(hc_scores, index=['r2', 'silhouette']).T])\n",
    "product_results"
   ]
  },
  {
   "cell_type": "markdown",
   "metadata": {
    "id": "ytma0aYI1TVF"
   },
   "source": [
    "#### K-Means <a class=\"anchor\" id=\"kmeansProduct\"></a>"
   ]
  },
  {
   "cell_type": "markdown",
   "metadata": {
    "id": "z4uTfAiKaT8d"
   },
   "source": [
    "__1./2.__ Elbow method and Silhouette score"
   ]
  },
  {
   "cell_type": "code",
   "execution_count": null,
   "metadata": {
    "colab": {
     "base_uri": "https://localhost:8080/",
     "height": 703
    },
    "id": "dYPDgVpPaT8g",
    "outputId": "0f99b144-b2b2-4e61-bc83-350801f9ff69"
   },
   "outputs": [],
   "source": [
    "for i, df in enumerate(df_product):\n",
    "  inertia, silhouette = get_kmeans_inertia_silhouette(df, min_clust = 1, max_clust = 10)\n",
    "  plot_scores(inertia, silhouette, f'{sets[i]}', (1, 10))"
   ]
  },
  {
   "cell_type": "markdown",
   "metadata": {
    "id": "hSJgSLNaaT8j"
   },
   "source": [
    "__3.__ K-Means with large nr of cluster followed by HC"
   ]
  },
  {
   "cell_type": "code",
   "execution_count": null,
   "metadata": {
    "colab": {
     "base_uri": "https://localhost:8080/",
     "height": 727
    },
    "id": "td2MPjiiaT8k",
    "outputId": "9703d68d-2247-43f4-8412-11fc7321c1da"
   },
   "outputs": [],
   "source": [
    "centroids_df = []\n",
    "for i, df in enumerate(df_product):\n",
    "  # perform kmeans with a lot of clusters\n",
    "  kmclust = KMeans(n_clusters = 100, init = 'k-means++', n_init = 15, random_state = 1)\n",
    "  kmclust.fit(df)\n",
    "\n",
    "  # new 'observations' are the clusters centroids\n",
    "  centroids = pd.DataFrame(kmclust.cluster_centers_)\n",
    "  centroids.name = df.name + '_centroids'\n",
    "\n",
    "  # save the dataframe for later\n",
    "  centroids_df.append(centroids)\n",
    "\n",
    "  # choose best linkage to cluster the centroids\n",
    "  choose_hc_linkage(centroids, 1, 5, f'Product perspective ({sets[i]})')"
   ]
  },
  {
   "cell_type": "markdown",
   "metadata": {
    "id": "5RhrWqFzaT8l"
   },
   "source": [
    "Total premiums"
   ]
  },
  {
   "cell_type": "code",
   "execution_count": null,
   "metadata": {
    "colab": {
     "base_uri": "https://localhost:8080/",
     "height": 384
    },
    "id": "wkK5sMUzaT8n",
    "outputId": "333dfafe-54b3-47d5-c698-e61e2b48b1fd"
   },
   "outputs": [],
   "source": [
    "# choose the best nr of clusters given the best linkage\n",
    "clst = AgglomerativeClustering(linkage='complete', distance_threshold=0, n_clusters=None)\n",
    "clst.fit_predict(centroids_df[0])\n",
    "plot_dendogram(clst, 5, 'deciding nr of clusters of K-Means following a Product perspective (total premiums set)','precomputed')"
   ]
  },
  {
   "cell_type": "markdown",
   "metadata": {
    "id": "k91lsFJGaT8n"
   },
   "source": [
    "Premiums Percentage"
   ]
  },
  {
   "cell_type": "code",
   "execution_count": null,
   "metadata": {
    "colab": {
     "base_uri": "https://localhost:8080/",
     "height": 381
    },
    "id": "AqWVs4iraT8o",
    "outputId": "186c5425-a875-4642-df78-1c914935b2da"
   },
   "outputs": [],
   "source": [
    "# choose the best nr of clusters given the best linkage\n",
    "clst = AgglomerativeClustering(linkage='ward', distance_threshold=0, n_clusters=None)\n",
    "clst.fit_predict(centroids_df[1])\n",
    "plot_dendogram(clst, 10, 'deciding nr of clusters of K-Means following a Product perspective (premiums percentage set)', 'precomputed')"
   ]
  },
  {
   "cell_type": "code",
   "execution_count": null,
   "metadata": {
    "id": "QYbqqPaXaT8t"
   },
   "outputs": [],
   "source": [
    "nr_clusters = [3, 3]\n",
    "kmeans_scores = {}\n",
    "\n",
    "for i, df in enumerate(df_product):\n",
    "  kmclust = KMeans(n_clusters = nr_clusters[i], init = 'k-means++', n_init = 15, random_state = 1)\n",
    "  labels = kmclust.fit_predict(df)\n",
    "  kmeans_scores[df.name + '_K-Means'] = [get_r2(df, labels), silhouette_score(df, labels)]"
   ]
  },
  {
   "cell_type": "code",
   "execution_count": null,
   "metadata": {
    "colab": {
     "base_uri": "https://localhost:8080/",
     "height": 175
    },
    "id": "jCXI7I7OWSfX",
    "outputId": "e270e4ff-8a8a-4d84-f2f6-98e0705cd217"
   },
   "outputs": [],
   "source": [
    "product_results = pd.concat([product_results, pd.DataFrame(kmeans_scores, index=['r2', 'silhouette']).T])\n",
    "product_results"
   ]
  },
  {
   "cell_type": "markdown",
   "metadata": {
    "id": "tHZcK-Dt1TVJ"
   },
   "source": [
    "#### Mean-shift <a class=\"anchor\" id=\"meanshiftProduct\"></a>"
   ]
  },
  {
   "cell_type": "code",
   "execution_count": null,
   "metadata": {
    "colab": {
     "base_uri": "https://localhost:8080/"
    },
    "id": "5OjsfwY3cXBq",
    "outputId": "724d523c-76b5-406d-f1b8-cbdefeda848e"
   },
   "outputs": [],
   "source": [
    "mean_shift_scores = {}\n",
    "\n",
    "for df in df_product:\n",
    "  ms = MeanShift(bin_seeding=True, n_jobs=4)\n",
    "  labels = ms.fit_predict(df)\n",
    "  if len(np.unique(labels)) == 1:\n",
    "    print(f'Only one cluster found using {df.name}')\n",
    "    continue\n",
    "  mean_shift_scores[df.name] = [get_r2(df, labels), silhouette_score(df, labels)]"
   ]
  },
  {
   "cell_type": "markdown",
   "metadata": {
    "id": "JfN4EaZX1TVL"
   },
   "source": [
    "#### DBScan <a class=\"anchor\" id=\"dbscanProduct\"></a>"
   ]
  },
  {
   "cell_type": "markdown",
   "metadata": {
    "id": "NY0uI_Wvcorv"
   },
   "source": [
    "__1./2.__ Define *min_samples* and eps"
   ]
  },
  {
   "cell_type": "code",
   "execution_count": null,
   "metadata": {
    "colab": {
     "base_uri": "https://localhost:8080/",
     "height": 1000
    },
    "id": "jVVH-zwzcory",
    "outputId": "b2e6a1c7-659c-4ef7-e79d-b331b1a013fb"
   },
   "outputs": [],
   "source": [
    "minPts = []\n",
    "for df in df_product:\n",
    "  ms = (2 * len(df.columns))\n",
    "  minPts.append(ms)\n",
    "  plot_nearest_neighbors_dist(df, ms)"
   ]
  },
  {
   "cell_type": "code",
   "execution_count": null,
   "metadata": {
    "id": "tWyMkcpccorz"
   },
   "outputs": [],
   "source": [
    "eps = [0.7, 0.75]"
   ]
  },
  {
   "cell_type": "code",
   "execution_count": null,
   "metadata": {
    "colab": {
     "base_uri": "https://localhost:8080/"
    },
    "id": "zpuXEZyvcor0",
    "outputId": "d1dd12e3-5761-4f67-e0dc-a354d08f2277"
   },
   "outputs": [],
   "source": [
    "dbscan_scores = {}\n",
    "for i, df in enumerate(df_product):\n",
    "  dbscan = DBSCAN(eps=eps[i], min_samples=minPts[i], n_jobs=4)\n",
    "  labels = dbscan.fit_predict(df)\n",
    "  print(f\"Number of clusters found for {df.name}: {len(np.unique(labels))}\")\n",
    "  dbscan_scores[df.name + '_dbscan'] = [get_r2(df, labels), silhouette_score(df, labels)]"
   ]
  },
  {
   "cell_type": "code",
   "execution_count": null,
   "metadata": {
    "colab": {
     "base_uri": "https://localhost:8080/",
     "height": 238
    },
    "id": "Ihx6vo7eW3Sy",
    "outputId": "4e7ed06d-cd2c-487b-ce75-fcfea1a287ed"
   },
   "outputs": [],
   "source": [
    "product_results = pd.concat([product_results, pd.DataFrame(dbscan_scores, index=['r2', 'silhouette']).T])\n",
    "product_results"
   ]
  },
  {
   "cell_type": "markdown",
   "metadata": {
    "id": "tsmku1ZCdEcY"
   },
   "source": [
    "#### SOM <a class=\"anchor\" id=\"somProduct\"></a>"
   ]
  },
  {
   "cell_type": "markdown",
   "metadata": {
    "id": "5kU0DVmSt7HY"
   },
   "source": [
    "__1./2.__ Train SOM and Plot U-Matrix"
   ]
  },
  {
   "cell_type": "code",
   "execution_count": null,
   "metadata": {
    "colab": {
     "base_uri": "https://localhost:8080/",
     "height": 1000
    },
    "id": "_nvCVK-EdMNW",
    "outputId": "35c49b0e-13d4-443d-b673-e5b03a748205"
   },
   "outputs": [],
   "source": [
    "soms = []\n",
    "\n",
    "for i, df in enumerate(df_product):\n",
    "  sm = create_som(df, [15, 15])\n",
    "  soms.append(sm)"
   ]
  },
  {
   "cell_type": "markdown",
   "metadata": {
    "id": "OCtwRXaydMNZ"
   },
   "source": [
    "__3.__ Plot Hitmap"
   ]
  },
  {
   "cell_type": "code",
   "execution_count": null,
   "metadata": {
    "colab": {
     "base_uri": "https://localhost:8080/",
     "height": 1000
    },
    "id": "kjqIch3FdMNa",
    "outputId": "6f0a7ad5-209c-4a8b-8983-d1574f03e556"
   },
   "outputs": [],
   "source": [
    "for i, df in enumerate(df_product):\n",
    "  plot_hitmap(f'Product segmentation using {sets[i]} set of features -', soms[i])"
   ]
  },
  {
   "cell_type": "markdown",
   "metadata": {
    "id": "qDhse1Fa1TVM"
   },
   "source": [
    "#### SOM + Hierarchical Clustering <a class=\"anchor\" id=\"somhcProduct\"></a>"
   ]
  },
  {
   "cell_type": "markdown",
   "metadata": {
    "id": "cvn1mT_pc_Zy"
   },
   "source": [
    "__1.__ Choose best linkage by plotting r2 scores for clustering the SOM units across a number of clusters\n"
   ]
  },
  {
   "cell_type": "code",
   "execution_count": null,
   "metadata": {
    "colab": {
     "base_uri": "https://localhost:8080/",
     "height": 727
    },
    "id": "AeMJKz6Sc_Zz",
    "outputId": "997114e9-4916-4ed6-fb66-27e0169b48e6"
   },
   "outputs": [],
   "source": [
    "for i, sm in enumerate(soms):\n",
    "  units = pd.DataFrame(sm.codebook.matrix)\n",
    "  choose_hc_linkage(units, 1, 5, f'Product perspective ({sets[i]})')"
   ]
  },
  {
   "cell_type": "markdown",
   "metadata": {
    "id": "ANGViOf4c_Z0"
   },
   "source": [
    "__2.__ Choose best number of cluster using the dendogram\n"
   ]
  },
  {
   "cell_type": "markdown",
   "metadata": {
    "id": "L6FJQsF3c_Z2"
   },
   "source": [
    "SOM Total Premiums"
   ]
  },
  {
   "cell_type": "code",
   "execution_count": null,
   "metadata": {
    "colab": {
     "base_uri": "https://localhost:8080/",
     "height": 380
    },
    "id": "S_mYtr93c_Z3",
    "outputId": "04931368-27ec-43d9-dc4e-3d4cff3085ce"
   },
   "outputs": [],
   "source": [
    "clst = AgglomerativeClustering(linkage='ward', distance_threshold=0, n_clusters=None)\n",
    "units = pd.DataFrame(soms[0].codebook.matrix) # get weights of each neuron\n",
    "clst.fit_predict(units) # employ HC on top of SOM units\n",
    "plot_dendogram(clst, 10, 'HC + SOM following a Product perspective (total premiums set)', 'precomputed')"
   ]
  },
  {
   "cell_type": "markdown",
   "metadata": {
    "id": "vIQCMc7ec_Z4"
   },
   "source": [
    "SOM Premiums Percentage\n"
   ]
  },
  {
   "cell_type": "code",
   "execution_count": null,
   "metadata": {
    "colab": {
     "base_uri": "https://localhost:8080/",
     "height": 381
    },
    "id": "H896Z-ACc_Z5",
    "outputId": "1e269e24-6f9d-4fd5-ef10-9c325bcbbc4b"
   },
   "outputs": [],
   "source": [
    "clst = AgglomerativeClustering(linkage='ward', distance_threshold=0, n_clusters=None)\n",
    "units = pd.DataFrame(soms[1].codebook.matrix)\n",
    "clst.fit_predict(units)\n",
    "plot_dendogram(clst, 11, 'HC + SOM following a Product perspective (premiums percentage set)', 'precomputed')"
   ]
  },
  {
   "cell_type": "markdown",
   "metadata": {
    "id": "jBk8cufBAkNt"
   },
   "source": [
    "__3.__ HC on SOM units"
   ]
  },
  {
   "cell_type": "code",
   "execution_count": null,
   "metadata": {
    "colab": {
     "base_uri": "https://localhost:8080/",
     "height": 1000
    },
    "id": "9JGZ7Ms0AkNy",
    "outputId": "f62e7856-ec54-415b-83a8-bc83ddf10e93"
   },
   "outputs": [],
   "source": [
    "nr_clusters = [3, 3]\n",
    "hc_som =[]\n",
    "for i, df in enumerate(df_product):\n",
    "  sm = soms[i]\n",
    "  hc_som.append(hc_on_som_plot(nr_clusters[i], sm, f'HC on top of SOM for Product ({sets[i]})', 'ward'))"
   ]
  },
  {
   "cell_type": "markdown",
   "metadata": {
    "id": "cFGjmfQ0AkN2"
   },
   "source": [
    "__4.__ Merge BMU labels with observations"
   ]
  },
  {
   "cell_type": "code",
   "execution_count": null,
   "metadata": {
    "id": "2L3l41MkAkN6"
   },
   "outputs": [],
   "source": [
    "final_df = []\n",
    "\n",
    "for i, df in enumerate(df_product):\n",
    "  final_df.append(merge_bmu_labels(df, hc_som[i]))"
   ]
  },
  {
   "cell_type": "code",
   "execution_count": null,
   "metadata": {
    "id": "9UN_QMvqAkN_"
   },
   "outputs": [],
   "source": [
    "som_hc_scores = {}\n",
    "\n",
    "for i, df in enumerate(final_df):\n",
    "  labels = df['label']\n",
    "  som_hc_scores[sets[i] + '_SOM_HC'] = [get_r2(df, labels), silhouette_score(df, labels)]"
   ]
  },
  {
   "cell_type": "code",
   "execution_count": null,
   "metadata": {
    "colab": {
     "base_uri": "https://localhost:8080/",
     "height": 300
    },
    "id": "5PQsTi6WAkOE",
    "outputId": "44deb00b-2477-4179-c981-fa1b9a2a9c34"
   },
   "outputs": [],
   "source": [
    "product_results = pd.concat([product_results, pd.DataFrame(som_hc_scores, index=['r2', 'silhouette']).T])\n",
    "product_results"
   ]
  },
  {
   "cell_type": "markdown",
   "metadata": {
    "id": "XN6rJFNp1TVP"
   },
   "source": [
    "#### SOM + K-Means <a class=\"anchor\" id=\"somkmeansProduct\"></a>"
   ]
  },
  {
   "cell_type": "markdown",
   "metadata": {
    "id": "mc0kxncYenip"
   },
   "source": [
    "__1./2.__ Elbow method and Silhouette score"
   ]
  },
  {
   "cell_type": "code",
   "execution_count": null,
   "metadata": {
    "colab": {
     "base_uri": "https://localhost:8080/",
     "height": 673
    },
    "id": "JVuCnNlvenir",
    "outputId": "c86ee1dc-3847-490a-c6fd-ee116764b0c7"
   },
   "outputs": [],
   "source": [
    "for i, df in enumerate(df_product):\n",
    "  sm = soms[i]\n",
    "\n",
    "  weights = sm.codebook.matrix\n",
    "\n",
    "  inertia, silhouette = get_kmeans_inertia_silhouette(weights, min_clust = 1, max_clust = 10)\n",
    "  plot_scores(inertia, silhouette,  f'K-Means + SOM following a Product ({sets[i]}) perspective', (1, 10))"
   ]
  },
  {
   "cell_type": "code",
   "execution_count": null,
   "metadata": {
    "id": "FJoaBOUpenis"
   },
   "outputs": [],
   "source": [
    "nr_clusters = [3, 3]"
   ]
  },
  {
   "cell_type": "markdown",
   "metadata": {
    "id": "ckt3eb8yenit"
   },
   "source": [
    "__3.__ K-Means on SOM units\n"
   ]
  },
  {
   "cell_type": "code",
   "execution_count": null,
   "metadata": {
    "colab": {
     "base_uri": "https://localhost:8080/",
     "height": 1000
    },
    "id": "fi0s-7jneniu",
    "outputId": "d2514839-0e29-4be5-f7e5-8d5203db8121"
   },
   "outputs": [],
   "source": [
    "kmeans_soms = []\n",
    "\n",
    "for i, sm in enumerate(soms):\n",
    "  kmeans_soms.append(kmeans_on_som_plot(nr_clusters[i], sm, f'K-Means on top of som for Product ({sets[i]})'))"
   ]
  },
  {
   "cell_type": "markdown",
   "metadata": {
    "id": "Xhflf3Y9eniv"
   },
   "source": [
    "__4.__ Merge BMU labels with observations"
   ]
  },
  {
   "cell_type": "code",
   "execution_count": null,
   "metadata": {
    "id": "PNwCRprUeniw"
   },
   "outputs": [],
   "source": [
    "final_dfs = []\n",
    "\n",
    "for i, df in enumerate(df_product):\n",
    "  final_dfs.append(merge_bmu_labels(df, kmeans_soms[i]))"
   ]
  },
  {
   "cell_type": "code",
   "execution_count": null,
   "metadata": {
    "id": "yDWG58vBenix"
   },
   "outputs": [],
   "source": [
    "kmeans_som_scores = {}\n",
    "for i, df in enumerate(df_product):\n",
    "  labels = final_dfs[i]['label']\n",
    "  kmeans_som_scores[sets[i] + '_SOM_KM'] = [get_r2(df, labels), silhouette_score(df, labels)]"
   ]
  },
  {
   "cell_type": "code",
   "execution_count": null,
   "metadata": {
    "colab": {
     "base_uri": "https://localhost:8080/",
     "height": 363
    },
    "id": "bH4COhLXXs7F",
    "outputId": "3e61a317-68aa-41e5-f0c8-29d9bad86295"
   },
   "outputs": [],
   "source": [
    "product_results = pd.concat([product_results, pd.DataFrame(som_hc_scores, index=['r2', 'silhouette']).T])\n",
    "product_results"
   ]
  },
  {
   "cell_type": "markdown",
   "metadata": {
    "id": "-mooDSdJDhFv"
   },
   "source": [
    "# Cluster analysis <a class=\"anchor\" id=\"analysis\"></a>"
   ]
  },
  {
   "cell_type": "code",
   "execution_count": null,
   "metadata": {
    "id": "GtqA06FrIAgw"
   },
   "outputs": [],
   "source": [
    "def numerical_variables_analysis(df, labels_col, description):\n",
    "  # calculate mean of each numerical variable per cluster\n",
    "  numerical_means = df.groupby(labels_col, as_index=False).mean()\n",
    "\n",
    "  plt.figure(figsize = (20, 7))\n",
    "\n",
    "  pd.plotting.parallel_coordinates(numerical_means, labels_col, color = ['#25bbbf','#25bf5d', '#de3838', '#e5d627', '#2367c4', '#ad487f', '#de7e4e'])\n",
    "\n",
    "  plt.suptitle(f'Cluster analysis for numerical variables following a {description} clustering perspective', fontsize = 20)\n",
    "  plt.legend(title = 'Cluster')\n",
    "\n",
    "  plt.show()"
   ]
  },
  {
   "cell_type": "code",
   "execution_count": null,
   "metadata": {
    "id": "aOJIzRKIQ0Fl"
   },
   "outputs": [],
   "source": [
    "def categorical_variables_analysis(df, labels_col, categorical_vars, description):\n",
    "  fig, axes = plt.subplots(1, 3, figsize=(30, 7))\n",
    "\n",
    "  for ax, var in zip(axes, categorical_vars):\n",
    "\n",
    "    df_percent = df.groupby(labels_col)[var].value_counts(normalize = True).reset_index(name = 'percentage')\n",
    "    sns.barplot(data = df_percent, x = labels_col, y = 'percentage', hue = var, ax = ax)\n",
    "\n",
    "    ax.set_title(var + '% per cluster')\n",
    "    ax.set_ylabel('Percentage')\n",
    "    ax.set_xlabel('Cluster')\n",
    "\n",
    "\n",
    "  plt.suptitle(f\"Analysis of categorical variables for each cluster following a {description} prespective\", fontsize = 20)"
   ]
  },
  {
   "cell_type": "markdown",
   "metadata": {
    "id": "M-RBTSMXDjyo"
   },
   "source": [
    "## Socio-Demographic <a class=\"anchor\" id=\"sociodemoAnalysis\"></a>"
   ]
  },
  {
   "cell_type": "code",
   "execution_count": null,
   "metadata": {
    "id": "F0yko2CUvxno"
   },
   "outputs": [],
   "source": [
    "df_clusters = df_scaled.copy()"
   ]
  },
  {
   "cell_type": "code",
   "execution_count": null,
   "metadata": {
    "colab": {
     "base_uri": "https://localhost:8080/",
     "height": 143
    },
    "id": "R1I43qnZDr92",
    "outputId": "ba1fe094-f9e9-4618-e016-da0c9dc12ca2"
   },
   "outputs": [],
   "source": [
    "sociodemo_results"
   ]
  },
  {
   "cell_type": "markdown",
   "metadata": {
    "id": "stviJe5_Yc1z"
   },
   "source": [
    "The best algorithm was K-Medoids"
   ]
  },
  {
   "cell_type": "code",
   "execution_count": null,
   "metadata": {
    "id": "3IbQ__whfUSb"
   },
   "outputs": [],
   "source": [
    "distance_matrix = gower.gower_matrix(df_demo, cat_features = [False, True, True])\n",
    "km = kmedoids.KMedoids(5, method='fasterpam', random_state = 0).fit(distance_matrix)\n",
    "df_clusters['demo_labels'] = km.labels_"
   ]
  },
  {
   "cell_type": "code",
   "execution_count": null,
   "metadata": {
    "colab": {
     "base_uri": "https://localhost:8080/"
    },
    "id": "QdcEyUX2M-L5",
    "outputId": "cb05b364-8ef4-48b2-80a3-cb62aafd9336"
   },
   "outputs": [],
   "source": [
    "df_clusters['demo_labels'].value_counts()"
   ]
  },
  {
   "cell_type": "code",
   "execution_count": null,
   "metadata": {
    "colab": {
     "base_uri": "https://localhost:8080/",
     "height": 482
    },
    "id": "AsH83mwzJ_0j",
    "outputId": "d0b74c29-cf37-4d49-d99d-5ee55eec9a65"
   },
   "outputs": [],
   "source": [
    "metric_features = ['FirstPolYear', 'BirthYear', 'MonthSal', 'CustMonVal', 'ClaimsRate', 'PremMotor', 'PremHousehold', 'PremHealth', 'PremLife', 'PremWork', 'total_premiums', 'total_reversals']\n",
    "categorical_features = ['GeoLivArea', 'EducDeg', 'Children']\n",
    "numerical_variables_analysis(df_clusters[metric_features + ['demo_labels']], 'demo_labels', 'Socio-Demographic')"
   ]
  },
  {
   "cell_type": "code",
   "execution_count": null,
   "metadata": {
    "colab": {
     "base_uri": "https://localhost:8080/",
     "height": 413
    },
    "id": "zVevLX5NSoFG",
    "outputId": "204dc816-938e-4190-d55a-4aef184253b9"
   },
   "outputs": [],
   "source": [
    "categorical_variables_analysis(df_clusters[categorical_features + ['demo_labels']], 'demo_labels', categorical_features, 'demographic')"
   ]
  },
  {
   "cell_type": "markdown",
   "metadata": {
    "id": "VxyOKI6SDoW8"
   },
   "source": [
    "## Value <a class=\"anchor\" id=\"valueAnalysis\"></a>"
   ]
  },
  {
   "cell_type": "code",
   "execution_count": null,
   "metadata": {
    "colab": {
     "base_uri": "https://localhost:8080/",
     "height": 206
    },
    "id": "fPlxAFxFX-nn",
    "outputId": "c9e58922-93ce-4219-c831-a61bc9f84ed6"
   },
   "outputs": [],
   "source": [
    "value_results"
   ]
  },
  {
   "cell_type": "markdown",
   "metadata": {
    "id": "GGwDcAKqYewC"
   },
   "source": [
    "K-Means shows the best solution"
   ]
  },
  {
   "cell_type": "code",
   "execution_count": null,
   "metadata": {
    "id": "J7JEjT7fkagw"
   },
   "outputs": [],
   "source": [
    "kmclust = KMeans(n_clusters = 4, init = 'k-means++', n_init = 15, random_state = 1)\n",
    "labels = kmclust.fit_predict(df_value)\n",
    "df_clusters['value_labels'] = labels"
   ]
  },
  {
   "cell_type": "code",
   "execution_count": null,
   "metadata": {
    "colab": {
     "base_uri": "https://localhost:8080/"
    },
    "id": "MQkC4B-bM15s",
    "outputId": "d21900c4-e78b-4371-dd8f-90d1f93203f7"
   },
   "outputs": [],
   "source": [
    "df_clusters['value_labels'].value_counts()"
   ]
  },
  {
   "cell_type": "code",
   "execution_count": null,
   "metadata": {
    "colab": {
     "base_uri": "https://localhost:8080/",
     "height": 482
    },
    "id": "LFljqKCdkhQ6",
    "outputId": "e326f6e9-16d9-4c9e-de42-72ea18f1b935"
   },
   "outputs": [],
   "source": [
    "numerical_variables_analysis(df_clusters[metric_features + ['value_labels']], 'value_labels', 'value')"
   ]
  },
  {
   "cell_type": "code",
   "execution_count": null,
   "metadata": {
    "colab": {
     "base_uri": "https://localhost:8080/",
     "height": 413
    },
    "id": "YHzHCkfRV3KJ",
    "outputId": "109c8925-639f-4976-8ba1-2b5786d56eac"
   },
   "outputs": [],
   "source": [
    "categorical_variables_analysis(df_clusters[categorical_features + ['value_labels']], 'value_labels', categorical_features, 'value')"
   ]
  },
  {
   "cell_type": "markdown",
   "metadata": {
    "id": "zLirvaMMDpaF"
   },
   "source": [
    "## Product <a class=\"anchor\" id=\"productAnalysis\"></a>"
   ]
  },
  {
   "cell_type": "code",
   "execution_count": null,
   "metadata": {
    "colab": {
     "base_uri": "https://localhost:8080/",
     "height": 363
    },
    "id": "xoUEJvEeYEoI",
    "outputId": "e789012a-7668-48f9-a95e-4c174dcc30c7"
   },
   "outputs": [],
   "source": [
    "product_results"
   ]
  },
  {
   "cell_type": "markdown",
   "metadata": {
    "id": "QsdXBOedY6rR"
   },
   "source": [
    "The set of total premiums has better overall performance, thus we will discard the second set. The best algorithm is K-Means again"
   ]
  },
  {
   "cell_type": "code",
   "execution_count": null,
   "metadata": {
    "id": "_byN7b1TmAOG"
   },
   "outputs": [],
   "source": [
    "kmclust = KMeans(n_clusters = 3, init = 'k-means++', n_init = 15, random_state = 1)\n",
    "df_clusters['product_premiums_labels'] = kmclust.fit_predict(df_product_1)"
   ]
  },
  {
   "cell_type": "code",
   "execution_count": null,
   "metadata": {
    "colab": {
     "base_uri": "https://localhost:8080/"
    },
    "id": "5Q228-ozNBXA",
    "outputId": "441d6ff6-12fe-422a-f109-a72ded3a78f9"
   },
   "outputs": [],
   "source": [
    "df_clusters['product_premiums_labels'].value_counts()"
   ]
  },
  {
   "cell_type": "code",
   "execution_count": null,
   "metadata": {
    "colab": {
     "base_uri": "https://localhost:8080/",
     "height": 482
    },
    "id": "_I8X03A5Xw7G",
    "outputId": "9f0a61e8-5826-4c94-8851-3b30feaed3e7"
   },
   "outputs": [],
   "source": [
    "numerical_variables_analysis(df_clusters[metric_features + ['product_premiums_labels']], 'product_premiums_labels', 'product (total premiums)')"
   ]
  },
  {
   "cell_type": "code",
   "execution_count": null,
   "metadata": {
    "colab": {
     "base_uri": "https://localhost:8080/",
     "height": 413
    },
    "id": "1PfxSd05X5lU",
    "outputId": "c3f588c2-8b5e-41c2-955b-6d8d3ffa34cb"
   },
   "outputs": [],
   "source": [
    "categorical_variables_analysis(df_clusters[categorical_features + ['product_premiums_labels']], 'product_premiums_labels', categorical_features, 'Product (Total Premiums)')"
   ]
  },
  {
   "cell_type": "markdown",
   "metadata": {
    "id": "w2HtOklwbXBB"
   },
   "source": [
    "# Merging the perspectives <a class=\"anchor\" id=\"merging\"></a>"
   ]
  },
  {
   "cell_type": "code",
   "execution_count": null,
   "metadata": {
    "colab": {
     "base_uri": "https://localhost:8080/",
     "height": 1000
    },
    "id": "ueVb5TqnbY4r",
    "outputId": "63883943-830b-4202-e7ba-599f374aacdf"
   },
   "outputs": [],
   "source": [
    "# features used for clustering\n",
    "metric_features = ['FirstPolYear', 'BirthYear', 'MonthSal', 'PremMotor', 'PremHousehold', 'PremHealth', 'PremLife', 'PremWork', 'total_premiums']\n",
    "\n",
    "feats = metric_features + categorical_features\n",
    "\n",
    "# Centroids of the concatenated cluster labels\n",
    "df_combinations = df_clusters .groupby(['demo_labels', 'value_labels', 'product_premiums_labels']).agg({c: 'mean' if c in metric_features else st.mode for c in feats})\n",
    "\n",
    "df_combinations[categorical_features] = df_combinations[categorical_features].applymap(lambda x: x[0][0] if isinstance(x, list) and len(x) > 0 and isinstance(x[0], list) and len(x[0]) > 0 else None)\n",
    "\n",
    "df_combinations"
   ]
  },
  {
   "cell_type": "code",
   "execution_count": null,
   "metadata": {
    "colab": {
     "base_uri": "https://localhost:8080/"
    },
    "id": "CrlJADxx4_dW",
    "outputId": "6e7611fc-7703-4843-a011-850989df8a44"
   },
   "outputs": [],
   "source": [
    "df_combinations.shape"
   ]
  },
  {
   "cell_type": "markdown",
   "metadata": {
    "id": "0WYIGhuCeVUw"
   },
   "source": [
    "We end up with 55 clusters. Let's merge them"
   ]
  },
  {
   "cell_type": "code",
   "execution_count": null,
   "metadata": {
    "id": "sQllgc0ICXEm"
   },
   "outputs": [],
   "source": [
    "clusters_distance_matrix = gower.gower_matrix(df_combinations, cat_features = [False, False, False, False, False, False, False, False, False, True, True, True])"
   ]
  },
  {
   "cell_type": "code",
   "execution_count": null,
   "metadata": {
    "colab": {
     "base_uri": "https://localhost:8080/",
     "height": 360
    },
    "id": "jFoC_3VI8hCB",
    "outputId": "cc5cb011-d7b0-468d-bead-67935f44934a"
   },
   "outputs": [],
   "source": [
    "inertia = []\n",
    "silhouette = []\n",
    "for n_clus in range(1, 11):\n",
    "  km = kmedoids.KMedoids(n_clus, method='fasterpam', random_state = 8).fit(clusters_distance_matrix)\n",
    "  inertia.append(km.inertia_)\n",
    "\n",
    "  if n_clus == 1:\n",
    "    continue\n",
    "  labels = km.labels_\n",
    "  silhouette.append(silhouette_score(clusters_distance_matrix, labels))\n",
    "\n",
    "plot_scores(inertia, silhouette, 'final Clusters', (1, 11))"
   ]
  },
  {
   "cell_type": "markdown",
   "metadata": {
    "id": "7Edpn6Xj6bk5"
   },
   "source": [
    "Best number of clusters if 4"
   ]
  },
  {
   "cell_type": "code",
   "execution_count": null,
   "metadata": {
    "colab": {
     "base_uri": "https://localhost:8080/"
    },
    "id": "5LbLfGAB8hCH",
    "outputId": "5565699d-1f4c-4b15-bb1f-a73309b1180c"
   },
   "outputs": [],
   "source": [
    "kmedoids_scores = {}\n",
    "\n",
    "km = kmedoids.KMedoids(4, method='fasterpam', random_state = 8).fit(clusters_distance_matrix)\n",
    "final_labels = km.labels_\n",
    "df_combinations['kmedoids_labels'] = final_labels\n",
    "\n",
    "print('Silhouette score', silhouette_score(clusters_distance_matrix, final_labels))"
   ]
  },
  {
   "cell_type": "markdown",
   "metadata": {
    "id": "yBivaGHAps5v"
   },
   "source": [
    "## Final clusters profiling <a class=\"anchor\" id=\"profiling\"></a>"
   ]
  },
  {
   "cell_type": "code",
   "execution_count": null,
   "metadata": {
    "id": "FkBjcS6yAYI-"
   },
   "outputs": [],
   "source": [
    "kmedoids_cluster_mapper = df_combinations['kmedoids_labels'].to_dict()\n",
    "\n",
    "df_clusters['merged_labels'] = df_clusters.apply(lambda r: kmedoids_cluster_mapper[(r['demo_labels'], r['value_labels'], r['product_premiums_labels'])], axis = 1)"
   ]
  },
  {
   "cell_type": "code",
   "execution_count": null,
   "metadata": {
    "colab": {
     "base_uri": "https://localhost:8080/"
    },
    "id": "-twJfO4dAk7-",
    "outputId": "0d6a8b31-16c6-48eb-8715-1670a7a922d1"
   },
   "outputs": [],
   "source": [
    "df_clusters['merged_labels'].value_counts()"
   ]
  },
  {
   "cell_type": "code",
   "execution_count": null,
   "metadata": {
    "colab": {
     "base_uri": "https://localhost:8080/"
    },
    "id": "ePBEvTHr9YFm",
    "outputId": "846f8c0b-eb93-4611-d599-ab5580f7cd76"
   },
   "outputs": [],
   "source": [
    "distance_matrix = gower.gower_matrix(df_clusters[feats], cat_features = [False, False, False, False, False, False, False, False, False, True, True, True])\n",
    "\n",
    "final_silhouette = silhouette_score(distance_matrix, df_clusters['merged_labels'])\n",
    "print('Final solution silhouette score:', final_silhouette)"
   ]
  },
  {
   "cell_type": "code",
   "execution_count": null,
   "metadata": {
    "colab": {
     "base_uri": "https://localhost:8080/",
     "height": 482
    },
    "id": "NUy_0t7GAPIS",
    "outputId": "07083149-e69a-4746-e5be-a1bf33298d3e"
   },
   "outputs": [],
   "source": [
    "metric_features = ['FirstPolYear', 'BirthYear', 'MonthSal', 'CustMonVal', 'ClaimsRate', 'PremMotor', 'PremHousehold', 'PremHealth', 'PremLife', 'PremWork', 'total_premiums', 'total_reversals']\n",
    "numerical_variables_analysis(df_clusters[metric_features + ['merged_labels']], 'merged_labels', 'final')"
   ]
  },
  {
   "cell_type": "code",
   "execution_count": null,
   "metadata": {
    "colab": {
     "base_uri": "https://localhost:8080/",
     "height": 413
    },
    "id": "_kxNOtOFBKDu",
    "outputId": "1f3cadd4-fafd-4d6b-e9e3-e168fabe6c7a"
   },
   "outputs": [],
   "source": [
    "categorical_variables_analysis(df_clusters[categorical_features + ['merged_labels']], 'merged_labels', categorical_features, 'final')"
   ]
  },
  {
   "cell_type": "code",
   "execution_count": null,
   "metadata": {
    "id": "tIxTwrwKj_aU"
   },
   "outputs": [],
   "source": [
    "df_bubbles = df_clusters.groupby('merged_labels').agg({c : 'mean' if c in ['MonthSal', 'total_premiums', 'Children'] else 'size' for c in ['MonthSal', 'total_premiums', 'Children', 'BirthYear']})"
   ]
  },
  {
   "cell_type": "code",
   "execution_count": null,
   "metadata": {
    "colab": {
     "base_uri": "https://localhost:8080/",
     "height": 206
    },
    "id": "B5WOMb7h6qOn",
    "outputId": "51664135-77be-4c9f-ed5a-8ac4b0734dcc"
   },
   "outputs": [],
   "source": [
    "df_bubbles['Cluster'] = df_bubbles.index\n",
    "df_bubbles.rename(columns = {'BirthYear' : 'Size'}, inplace = True)\n",
    "df_bubbles['NoChildren'] = 1 - df_bubbles['Children']\n",
    "df_bubbles"
   ]
  },
  {
   "cell_type": "code",
   "execution_count": null,
   "metadata": {
    "colab": {
     "base_uri": "https://localhost:8080/",
     "height": 1000
    },
    "id": "BmRtO1dt4XJo",
    "outputId": "264c52eb-fe7f-4087-ed48-cd794fb69397"
   },
   "outputs": [],
   "source": [
    "def draw_pie(dist, xpos, ypos, size, ax, cluster):\n",
    "\n",
    "    # for incremental pie slices\n",
    "    cumsum = np.cumsum(dist)\n",
    "    cumsum = cumsum/ cumsum[-1]\n",
    "    pie = [0] + cumsum.tolist()\n",
    "\n",
    "    colors = ['#25bbbf', '#de7e4e']\n",
    "\n",
    "    for i, (r1, r2) in enumerate(zip(pie[:-1], pie[1:])):\n",
    "        angles = np.linspace(2 * np.pi * r1, 2 * np.pi * r2)\n",
    "        x = [0] + np.cos(angles).tolist()\n",
    "        y = [0] + np.sin(angles).tolist()\n",
    "\n",
    "        xy = np.column_stack([x, y])\n",
    "\n",
    "        ax.scatter([xpos], [ypos], marker=xy, s=size * 2, color = colors[i], alpha = 0.7)\n",
    "    \n",
    "    ax.text(xpos - 0.015, ypos - 0.03, cluster, fontsize=15, fontname = 'Liberation Sans', color = '#444444')\n",
    "    \n",
    "    return ax\n",
    "\n",
    "fig, ax = plt.subplots(figsize=(15,10))\n",
    "\n",
    "cluster_0 = df_bubbles[df_bubbles['Cluster'] == 0]\n",
    "cluster_1 = df_bubbles[df_bubbles['Cluster'] == 1]\n",
    "cluster_2 = df_bubbles[df_bubbles['Cluster'] == 2]\n",
    "cluster_3 = df_bubbles[df_bubbles['Cluster'] == 3]\n",
    "\n",
    "i = 0\n",
    "for cluster in [cluster_0, cluster_1, cluster_2, cluster_3]:\n",
    "  draw_pie(cluster[['Children', 'NoChildren']].values.flatten().tolist(), cluster['MonthSal'], cluster['total_premiums'], cluster['Size'], ax=ax, cluster = i)\n",
    "  i += 1\n",
    "\n",
    "\n",
    "ax.set_facecolor(\"#e5ecf6\")\n",
    "\n",
    "ax.spines['top'].set_visible(False)\n",
    "ax.spines['right'].set_visible(False)\n",
    "ax.spines['left'].set_visible(False)\n",
    "ax.spines['bottom'].set_visible(False)\n",
    "\n",
    "legend_elements = [plt.Line2D([0], [0], color = '#25bbbf', lw = 4, label='Yes'), plt.Line2D([0], [0], color = '#de7e4e', lw = 4, label='No')]\n",
    "ax.legend(handles=legend_elements, loc='upper right', title = 'Children', title_fontsize = 15, fontsize = 12)\n",
    "\n",
    "ax.set_axisbelow(True)\n",
    "ax.yaxis.grid(color='white')\n",
    "ax.xaxis.grid(color='white')\n",
    "\n",
    "plt.title('Final clusters Bubble Chart', fontsize = 20, pad = 20)\n",
    "plt.ylabel('total_premiums', fontsize = 15)\n",
    "plt.xlabel('MonthSal', fontsize = 15)\n",
    "plt.xlim(-1.5, 1)\n",
    "plt.ylim(-1, 1.7)\n",
    "plt.show()"
   ]
  },
  {
   "cell_type": "markdown",
   "metadata": {
    "id": "2RQOsa47Vga0"
   },
   "source": [
    "## Visualizing the clusters with t-SNE <a class=\"anchor\" id=\"tsne\"></a>"
   ]
  },
  {
   "cell_type": "code",
   "execution_count": null,
   "metadata": {
    "colab": {
     "base_uri": "https://localhost:8080/"
    },
    "id": "iOMIasrRTPl4",
    "outputId": "8fb85a16-0793-4dd7-99f7-a15407dc3771"
   },
   "outputs": [],
   "source": [
    "metric_features = ['FirstPolYear', 'BirthYear', 'MonthSal', 'PremMotor', 'PremHousehold', 'PremHealth', 'PremLife', 'PremWork', 'total_premiums']\n",
    "\n",
    "tsne = TSNE(n_components= 2, random_state=0)\n",
    "projections = tsne.fit_transform(df_clusters[metric_features])"
   ]
  },
  {
   "cell_type": "code",
   "execution_count": null,
   "metadata": {
    "colab": {
     "base_uri": "https://localhost:8080/",
     "height": 434
    },
    "id": "bYUxibZeE-eK",
    "outputId": "a4b41f70-beff-4279-fa96-d5bfb27e9ce9"
   },
   "outputs": [],
   "source": [
    "plt.figure(figsize = (10, 7))\n",
    "fig = px.scatter(\n",
    "    projections, x=0, y=1,\n",
    "    color=df_clusters['merged_labels'], labels={'color': 'Cluster'}, width=800, height=400,\n",
    "    title = 'Clusters visualization using t-SNE'\n",
    ")\n",
    "fig.show()"
   ]
  },
  {
   "cell_type": "markdown",
   "metadata": {
    "id": "2kiiYARi6llY"
   },
   "source": [
    "## Silhouette of the final solution <a class=\"anchor\" id=\"finalSilhouette\"></a>"
   ]
  },
  {
   "cell_type": "code",
   "execution_count": null,
   "metadata": {
    "colab": {
     "base_uri": "https://localhost:8080/",
     "height": 553
    },
    "id": "DW4HjLXNP55J",
    "outputId": "5e6ba27e-e638-4ff0-fb9e-c4c3f8bdfad8"
   },
   "outputs": [],
   "source": [
    "plt.figure(figsize = (12, 8))\n",
    "\n",
    "cluster_labels = df_clusters['merged_labels']\n",
    "sample_silhouette_values = silhouette_samples(df_clusters[metric_features], cluster_labels)\n",
    "\n",
    "y_lower = 10\n",
    "\n",
    "for i in range(4):\n",
    "        # Aggregate the silhouette scores for samples belonging to cluster i, and sort them\n",
    "        ith_cluster_silhouette_values = sorted(sample_silhouette_values[cluster_labels == i])\n",
    "        \n",
    "        # Get y_upper to demarcate silhouette y range size\n",
    "        size_cluster_i = len(ith_cluster_silhouette_values)\n",
    "        y_upper = y_lower + size_cluster_i\n",
    "        \n",
    "        # Filling the silhouette\n",
    "        color = cm.nipy_spectral(float(i) / 4)\n",
    "        plt.fill_betweenx(np.arange(y_lower, y_upper),\n",
    "                          0, ith_cluster_silhouette_values,\n",
    "                          facecolor=color, edgecolor=color, alpha=0.7)\n",
    "\n",
    "        # Label the silhouette plots with their cluster numbers at the middle\n",
    "        plt.text(-0.05, y_lower + 0.5 * size_cluster_i, str(i))\n",
    "\n",
    "        # Compute the new y_lower for next plot\n",
    "        y_lower = y_upper + 10  # 10 for the 0 samples\n",
    "\n",
    "# The vertical line for average silhouette score of all the values\n",
    "plt.axvline(x=final_silhouette, color=\"red\", linestyle=\"--\")\n",
    "\n",
    "# The silhouette coefficient can range from -1, 1\n",
    "xmin, xmax = np.round(sample_silhouette_values.min() -0.1, 2), np.round(sample_silhouette_values.max() + 0.1, 2)\n",
    "plt.xlim([xmin, xmax])\n",
    "\n",
    "plt.title('Silhouette plot for the final clusters')\n",
    "plt.xlabel('Silhouette score values')\n",
    "plt.yticks(color='w')"
   ]
  },
  {
   "cell_type": "markdown",
   "metadata": {
    "id": "AlcDxuW9_gGR"
   },
   "source": [
    "# Features importance <a class=\"anchor\" id=\"featsImportance\"></a>"
   ]
  },
  {
   "cell_type": "code",
   "execution_count": null,
   "metadata": {
    "colab": {
     "base_uri": "https://localhost:8080/"
    },
    "id": "cFT-TMqt_p37",
    "outputId": "7c0ddc7e-da8a-4af8-f2f4-1179caee1af1"
   },
   "outputs": [],
   "source": [
    "X = df_clusters[feats]\n",
    "y = df_clusters['merged_labels']\n",
    "\n",
    "X_train, X_test, y_train, y_test = train_test_split( X, y, test_size=0.3, random_state = 0)\n",
    "\n",
    "clf = DecisionTreeClassifier(random_state = 0, max_depth = 5)\n",
    "\n",
    "clf.fit(X_train, y_train)\n",
    "print(\"Customers' cluster predicitions score:\", np.round(clf.score(X_test, y_test)*100, 2))"
   ]
  },
  {
   "cell_type": "code",
   "execution_count": null,
   "metadata": {
    "colab": {
     "base_uri": "https://localhost:8080/"
    },
    "id": "u-MrbhOTAV0Q",
    "outputId": "9b53cb95-393c-48ae-f503-b81b8390544a"
   },
   "outputs": [],
   "source": [
    "pd.Series(clf.feature_importances_, index=X_train.columns, name = 'Features Importance')"
   ]
  },
  {
   "cell_type": "markdown",
   "metadata": {
    "id": "_3-Ys0dq6_fj"
   },
   "source": [
    "# Reclassifying outliers <a class=\"anchor\" id=\"classifOutliers\"></a>"
   ]
  },
  {
   "cell_type": "code",
   "execution_count": null,
   "metadata": {
    "colab": {
     "base_uri": "https://localhost:8080/"
    },
    "id": "0QYWY61sML78",
    "outputId": "1a9dcf87-3a25-490f-f259-33482e0a41dd"
   },
   "outputs": [],
   "source": [
    "df_discarded.isna().sum()"
   ]
  },
  {
   "cell_type": "markdown",
   "metadata": {
    "id": "-bPSKTWtNwBm"
   },
   "source": [
    "The Decision Tree can not deal with missing values, so we first need to fill them. There is just one entry that has missing values, so let's fill them using measures of central tendency"
   ]
  },
  {
   "cell_type": "code",
   "execution_count": null,
   "metadata": {
    "colab": {
     "base_uri": "https://localhost:8080/"
    },
    "id": "j-i0YfZsMUA1",
    "outputId": "ff8b5353-2f5d-4024-a38a-f8a78da9edb4"
   },
   "outputs": [],
   "source": [
    "df_discarded['FirstPolYear'].fillna(df_discarded['FirstPolYear'].median(), inplace = True)\n",
    "df_discarded['GeoLivArea'] = df_discarded['GeoLivArea'].fillna(df_discarded['GeoLivArea'].mode().values[0])\n",
    "df_discarded['Children'].fillna(df_discarded['Children'].mode().values[0], inplace = True)\n",
    "\n",
    "df_discarded.isna().sum()"
   ]
  },
  {
   "cell_type": "markdown",
   "metadata": {
    "id": "XdHZguR2OEPV"
   },
   "source": [
    "Finally, we get the clusters to which each discarded observation (incoherences or outliers) belongs to."
   ]
  },
  {
   "cell_type": "code",
   "execution_count": null,
   "metadata": {
    "colab": {
     "base_uri": "https://localhost:8080/",
     "height": 331
    },
    "id": "kVHCKmr17G-g",
    "outputId": "8400c4e3-c4d0-420d-e3b9-290d1fac3b81"
   },
   "outputs": [],
   "source": [
    "df_discarded['merged_labels'] = clf.predict(df_discarded[feats])\n",
    "df_discarded.head()"
   ]
  },
  {
   "cell_type": "markdown",
   "metadata": {
    "id": "YwzTX-k6OQwd"
   },
   "source": [
    "Now we have all customers belonging to a cluster. Therefore, we can use targeted marketing strategies on them."
   ]
  }
 ],
 "metadata": {
  "colab": {
   "provenance": [],
   "toc_visible": true
  },
  "gpuClass": "standard",
  "kernelspec": {
   "display_name": "Python 3 (ipykernel)",
   "language": "python",
   "name": "python3"
  },
  "language_info": {
   "codemirror_mode": {
    "name": "ipython",
    "version": 3
   },
   "file_extension": ".py",
   "mimetype": "text/x-python",
   "name": "python",
   "nbconvert_exporter": "python",
   "pygments_lexer": "ipython3",
   "version": "3.11.3"
  },
  "vscode": {
   "interpreter": {
    "hash": "c3e1b914758c0064768d5b7ded7793eb93afcfd32fe458b7f56104c45072a0c5"
   }
  }
 },
 "nbformat": 4,
 "nbformat_minor": 4
}
